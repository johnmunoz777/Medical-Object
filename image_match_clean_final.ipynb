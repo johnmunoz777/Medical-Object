{
 "cells": [
  {
   "cell_type": "code",
   "execution_count": 2,
   "id": "712d7e70-2b53-4e1f-a7f5-e9fa93526556",
   "metadata": {},
   "outputs": [],
   "source": [
    "import os "
   ]
  },
  {
   "cell_type": "code",
   "execution_count": 3,
   "id": "40e5fa25-418c-4ba8-8d50-5c3076193dc0",
   "metadata": {},
   "outputs": [
    {
     "name": "stdout",
     "output_type": "stream",
     "text": [
      "classes.txt\t     images\t\t\t\t  Untitled2.ipynb\n",
      "client_secrets.json  img_transformed\t\t\t  Untitled3.ipynb\n",
      "credentials.json     jm.json\t\t\t\t  Untitled4.ipynb\n",
      "final\t\t     jm.py\t\t\t\t  Untitled.ipynb\n",
      "final_images\t     make_label_images_match_count.ipynb  video_frames\n",
      "fix_photos\t     quickstart.py\t\t\t  video_frames_labels\n",
      "fix_videos\t     test_videos.py\t\t\t  vids_final\n",
      "gmail_labels\t     test_videos_two.py\t\t\t  vids_final_labels\n",
      "image_labels\t     Untitled1.ipynb\n"
     ]
    }
   ],
   "source": [
    "!ls"
   ]
  },
  {
   "cell_type": "code",
   "execution_count": 2,
   "id": "b9142740-6b32-4b91-9d13-d256a33d3498",
   "metadata": {},
   "outputs": [
    {
     "name": "stdout",
     "output_type": "stream",
     "text": [
      "/home/jmunoz004/medial_ai\n"
     ]
    }
   ],
   "source": [
    "!pwd\n"
   ]
  },
  {
   "cell_type": "code",
   "execution_count": 5,
   "id": "a6cc3761-3b29-4ae9-96ad-a363cb8d5bf9",
   "metadata": {},
   "outputs": [],
   "source": [
    "vids_labels='/home/jmunoz004/medial_ai/vids_final_labels'"
   ]
  },
  {
   "cell_type": "code",
   "execution_count": 9,
   "id": "65be9a4e-d5c5-4577-b77d-066c1e87c57b",
   "metadata": {},
   "outputs": [
    {
     "data": {
      "text/plain": [
       "['20240122121552_frame_365.xml.txt',\n",
       " '20240122124553_frame_770.xml.txt',\n",
       " '20240122123920_frame_56.xml.txt',\n",
       " '20240122121552_frame_803.xml.txt',\n",
       " '20240122124111_frame_966.xml.txt',\n",
       " '20240122123551_frame_864.xml.txt',\n",
       " '20240122123358_frame_71.xml.txt',\n",
       " '20240122123739_frame_360.xml.txt',\n",
       " '20240122123058_frame_123.xml.txt',\n",
       " '20240122123739_frame_504.xml.txt',\n",
       " '20240122123058_frame_246.xml.txt',\n",
       " '20240122123058_frame_328.xml.txt',\n",
       " '20240122123739_frame_1440.xml.txt',\n",
       " '20240122122120_frame_220.xml.txt',\n",
       " '20240122122355_frame_148.xml.txt',\n",
       " '20240122122355_frame_518.xml.txt',\n",
       " '20240122124739_frame_630.xml.txt',\n",
       " '20240122122855_frame_456.xml.txt',\n",
       " '20240122121902_frame_264.xml.txt',\n",
       " '20240122121552_frame_146.xml.txt']"
      ]
     },
     "execution_count": 9,
     "metadata": {},
     "output_type": "execute_result"
    }
   ],
   "source": [
    "label_files=os.listdir(vids_labels) \n",
    "label_files[0:20]"
   ]
  },
  {
   "cell_type": "code",
   "execution_count": 11,
   "id": "9544b6c1-8b1c-4111-b31a-6b296d12d0cb",
   "metadata": {},
   "outputs": [
    {
     "data": {
      "text/plain": [
       "254"
      ]
     },
     "execution_count": 11,
     "metadata": {},
     "output_type": "execute_result"
    }
   ],
   "source": [
    "## all files should be stored as.xml.txt\n",
    "len(label_files)"
   ]
  },
  {
   "cell_type": "code",
   "execution_count": 12,
   "id": "d2ec6371-6038-4583-b950-15c672e11260",
   "metadata": {},
   "outputs": [],
   "source": [
    "label_data=[]\n",
    "for file_name in label_files:\n",
    "    if file_name.endswith('.xml.txt'):\n",
    "        prefix=file_name.rsplit('.xml.txt',1)[0]\n",
    "        label_data.append(prefix)"
   ]
  },
  {
   "cell_type": "code",
   "execution_count": 14,
   "id": "3b7961e7-ddbc-427d-903a-7c141eaa165f",
   "metadata": {},
   "outputs": [
    {
     "data": {
      "text/plain": [
       "['20240122121552_frame_365',\n",
       " '20240122124553_frame_770',\n",
       " '20240122123920_frame_56',\n",
       " '20240122121552_frame_803',\n",
       " '20240122124111_frame_966',\n",
       " '20240122123551_frame_864',\n",
       " '20240122123358_frame_71',\n",
       " '20240122123739_frame_360',\n",
       " '20240122123058_frame_123',\n",
       " '20240122123739_frame_504',\n",
       " '20240122123058_frame_246',\n",
       " '20240122123058_frame_328',\n",
       " '20240122123739_frame_1440',\n",
       " '20240122122120_frame_220',\n",
       " '20240122122355_frame_148',\n",
       " '20240122122355_frame_518',\n",
       " '20240122124739_frame_630',\n",
       " '20240122122855_frame_456',\n",
       " '20240122121902_frame_264',\n",
       " '20240122121552_frame_146']"
      ]
     },
     "execution_count": 14,
     "metadata": {},
     "output_type": "execute_result"
    }
   ],
   "source": [
    "label_data[:20]"
   ]
  },
  {
   "cell_type": "code",
   "execution_count": 15,
   "id": "592bbf03-e66e-4c44-b932-46278083a49a",
   "metadata": {},
   "outputs": [
    {
     "data": {
      "text/plain": [
       "253"
      ]
     },
     "execution_count": 15,
     "metadata": {},
     "output_type": "execute_result"
    }
   ],
   "source": [
    "## We have 1 file that doesnt end in .txt\n",
    "## We need to find that file \n",
    "len(label_data)"
   ]
  },
  {
   "cell_type": "code",
   "execution_count": 16,
   "id": "0071ff71-bde5-4f8d-8308-3723e6aff1ec",
   "metadata": {},
   "outputs": [
    {
     "data": {
      "text/plain": [
       "['classes.txt']"
      ]
     },
     "execution_count": 16,
     "metadata": {},
     "output_type": "execute_result"
    }
   ],
   "source": [
    "non_xml= [file_name for file_name in label_files if not file_name.endswith('.xml.txt')]\n",
    "non_xml"
   ]
  },
  {
   "cell_type": "code",
   "execution_count": null,
   "id": "7c7bc3cd-3a20-48ed-a659-5bfb7c37afba",
   "metadata": {},
   "outputs": [],
   "source": [
    "#### Now we load images folder "
   ]
  },
  {
   "cell_type": "code",
   "execution_count": 17,
   "id": "b5eca5dc-70ea-42e5-bea8-dbfe8a4a0bd6",
   "metadata": {},
   "outputs": [
    {
     "name": "stdout",
     "output_type": "stream",
     "text": [
      "303\n"
     ]
    },
    {
     "data": {
      "text/plain": [
       "['20240122124948_frame_420.png',\n",
       " '20240122123739_frame_1368.png',\n",
       " '20240122123358_frame_213.png',\n",
       " '20240122123058_frame_779.png',\n",
       " '20240122124111_frame_1311.png',\n",
       " '20240122121902_frame_1056.png',\n",
       " '20240122122558_frame_74.png',\n",
       " '20240122124739_frame_1120.png',\n",
       " '20240122123058_frame_164.png',\n",
       " '20240122122120_frame_110.png',\n",
       " '20240122124739_frame_420.png',\n",
       " '20240122123358_frame_1065.png',\n",
       " '20240122124553_frame_280.png',\n",
       " '20240122121552_frame_146.png',\n",
       " '20240122123739_frame_1224.png',\n",
       " '20240122122855_frame_741.png',\n",
       " '20240122121552_frame_1022.png',\n",
       " '20240122122558_frame_444.png',\n",
       " '20240122122120_frame_220.png',\n",
       " '20240122124111_frame_483.png']"
      ]
     },
     "execution_count": 17,
     "metadata": {},
     "output_type": "execute_result"
    }
   ],
   "source": [
    "project_images='/home/jmunoz004/medial_ai/vids_final'\n",
    "image_files=os.listdir(project_images) \n",
    "print(len(image_files))\n",
    "\n",
    "image_files[0:20]"
   ]
  },
  {
   "cell_type": "code",
   "execution_count": 18,
   "id": "90db8fcd-af66-4f3c-b8a0-81f177e8eaa6",
   "metadata": {},
   "outputs": [],
   "source": [
    "### notice how we have 303 images and only 253 labels \n",
    "img_data=[]\n",
    "for file_name in image_files:\n",
    "    if file_name.endswith('.png'):\n",
    "        prefix=file_name.rsplit('.png',1)[0]\n",
    "        img_data.append(prefix)"
   ]
  },
  {
   "cell_type": "code",
   "execution_count": 19,
   "id": "c3243ef3-106a-4273-bb20-e55a117a048f",
   "metadata": {},
   "outputs": [
    {
     "data": {
      "text/plain": [
       "['20240122124948_frame_420',\n",
       " '20240122123739_frame_1368',\n",
       " '20240122123358_frame_213',\n",
       " '20240122123058_frame_779',\n",
       " '20240122124111_frame_1311',\n",
       " '20240122121902_frame_1056',\n",
       " '20240122122558_frame_74',\n",
       " '20240122124739_frame_1120',\n",
       " '20240122123058_frame_164',\n",
       " '20240122122120_frame_110',\n",
       " '20240122124739_frame_420',\n",
       " '20240122123358_frame_1065',\n",
       " '20240122124553_frame_280',\n",
       " '20240122121552_frame_146',\n",
       " '20240122123739_frame_1224',\n",
       " '20240122122855_frame_741',\n",
       " '20240122121552_frame_1022',\n",
       " '20240122122558_frame_444',\n",
       " '20240122122120_frame_220',\n",
       " '20240122124111_frame_483']"
      ]
     },
     "execution_count": 19,
     "metadata": {},
     "output_type": "execute_result"
    }
   ],
   "source": [
    "img_data[0:20]"
   ]
  },
  {
   "cell_type": "code",
   "execution_count": 20,
   "id": "8b50b39a-a0e5-4a3e-897e-c7e7a290375b",
   "metadata": {},
   "outputs": [
    {
     "data": {
      "text/plain": [
       "['classes.txt',\n",
       " '20240122122855_frame_342.xml.txt',\n",
       " '20240122122355_frame_740.txt']"
      ]
     },
     "execution_count": 20,
     "metadata": {},
     "output_type": "execute_result"
    }
   ],
   "source": [
    "non_png= [file_name for file_name in image_files if not file_name.endswith('.png')]\n",
    "non_png"
   ]
  },
  {
   "cell_type": "code",
   "execution_count": null,
   "id": "bea880d7-f804-4886-98a3-52fc38e48baf",
   "metadata": {},
   "outputs": [],
   "source": [
    "## re run it i deleted those files "
   ]
  },
  {
   "cell_type": "code",
   "execution_count": 21,
   "id": "2b3444b0-2279-4ffa-8ffb-ae8960c1335a",
   "metadata": {},
   "outputs": [
    {
     "name": "stdout",
     "output_type": "stream",
     "text": [
      "301\n"
     ]
    },
    {
     "data": {
      "text/plain": [
       "['classes.txt']"
      ]
     },
     "execution_count": 21,
     "metadata": {},
     "output_type": "execute_result"
    }
   ],
   "source": [
    "project_images='/home/jmunoz004/medial_ai/vids_final'\n",
    "image_files=os.listdir(project_images) \n",
    "print(len(image_files))\n",
    "\n",
    "image_files[0:20]\n",
    "### notice how we have 303 images and only 253 labels \n",
    "img_data=[]\n",
    "for file_name in image_files:\n",
    "    if file_name.endswith('.png'):\n",
    "        prefix=file_name.rsplit('.png',1)[0]\n",
    "        img_data.append(prefix)\n",
    "\n",
    "non_png= [file_name for file_name in image_files if not file_name.endswith('.png')]\n",
    "non_png"
   ]
  },
  {
   "cell_type": "code",
   "execution_count": 26,
   "id": "f0d90844-86d0-48e9-93ea-849e994f5e53",
   "metadata": {},
   "outputs": [
    {
     "name": "stdout",
     "output_type": "stream",
     "text": [
      "['20240122121552_frame_365', '20240122124553_frame_770', '20240122123920_frame_56', '20240122121552_frame_803', '20240122124111_frame_966', '20240122123551_frame_864', '20240122123358_frame_71', '20240122123739_frame_360', '20240122123058_frame_123', '20240122123739_frame_504']\n",
      "------------------------------------------------------------------------------------------------------------------------\n",
      "['20240122124948_frame_420', '20240122123739_frame_1368', '20240122123358_frame_213', '20240122123058_frame_779', '20240122124111_frame_1311', '20240122121902_frame_1056', '20240122122558_frame_74', '20240122124739_frame_1120', '20240122123058_frame_164', '20240122122120_frame_110']\n"
     ]
    }
   ],
   "source": [
    "### lets see our data \n",
    "print(label_data[0:10])\n",
    "print('-'*120)\n",
    "print(img_data[0:10])"
   ]
  },
  {
   "cell_type": "code",
   "execution_count": 27,
   "id": "23a93596-585d-45d0-80ab-5faaec64bdad",
   "metadata": {},
   "outputs": [
    {
     "name": "stdout",
     "output_type": "stream",
     "text": [
      "300\n",
      "253\n"
     ]
    }
   ],
   "source": [
    "print(len(img_data))\n",
    "print(len(label_data))"
   ]
  },
  {
   "cell_type": "code",
   "execution_count": 28,
   "id": "6cdb96d9-b775-4c88-8200-8e709ae08151",
   "metadata": {},
   "outputs": [
    {
     "name": "stdout",
     "output_type": "stream",
     "text": [
      "20240122123058_frame_779\n",
      "20240122124739_frame_420\n",
      "20240122124553_frame_280\n",
      "20240122122558_frame_444\n",
      "20240122123058_frame_615\n",
      "20240122122120_frame_935\n",
      "20240122123358_frame_639\n",
      "20240122122558_frame_518\n",
      "20240122121902_frame_1122\n",
      "20240122122355_frame_444\n",
      "20240122122355_frame_1184\n",
      "20240122121552_frame_73\n",
      "20240122124948_frame_1080\n",
      "20240122124948_frame_1140\n",
      "20240122122855_frame_684\n",
      "20240122122558_frame_592\n",
      "20240122121902_frame_858\n",
      "20240122124739_frame_910\n",
      "20240122121902_frame_330\n",
      "20240122124739_frame_140\n",
      "20240122123058_frame_656\n",
      "20240122123358_frame_1420\n",
      "20240122122120_frame_1100\n",
      "20240122121902_frame_1320\n",
      "20240122121902_frame_792\n",
      "20240122122855_frame_627\n",
      "20240122124553_frame_1050\n",
      "20240122123058_frame_369\n",
      "20240122124739_frame_840\n",
      "20240122123551_frame_576\n",
      "20240122124739_frame_560\n",
      "20240122121552_frame_1460\n",
      "20240122123358_frame_710\n",
      "20240122123358_frame_497\n",
      "20240122122120_frame_1045\n",
      "20240122123358_frame_426\n",
      "20240122122558_frame_370\n",
      "20240122121902_frame_1254\n",
      "20240122123551_frame_1080\n",
      "20240122124739_frame_700\n",
      "20240122123358_frame_923\n",
      "20240122122855_frame_342\n",
      "20240122123739_frame_72\n",
      "20240122123358_frame_568\n",
      "20240122123358_frame_852\n",
      "20240122121902_frame_990\n",
      "20240122124948_frame_1200\n"
     ]
    }
   ],
   "source": [
    "missing_photos=[]\n",
    "for row in range(len(img_data)):\n",
    "        if img_data[row] not in label_data:\n",
    "            mia=img_data[row]\n",
    "            missing_photos.append(mia)\n",
    "            print(mia)\n"
   ]
  },
  {
   "cell_type": "code",
   "execution_count": 29,
   "id": "5afee8d6-f459-469b-9acc-afc686492fa0",
   "metadata": {},
   "outputs": [
    {
     "data": {
      "text/plain": [
       "47"
      ]
     },
     "execution_count": 29,
     "metadata": {},
     "output_type": "execute_result"
    }
   ],
   "source": [
    "len(missing_photos)"
   ]
  },
  {
   "cell_type": "code",
   "execution_count": 31,
   "id": "841d245d-7fa8-4e6c-b9a7-d5fc628bf8b3",
   "metadata": {},
   "outputs": [
    {
     "name": "stdout",
     "output_type": "stream",
     "text": [
      "300\n",
      "253\n"
     ]
    },
    {
     "data": {
      "text/plain": [
       "47"
      ]
     },
     "execution_count": 31,
     "metadata": {},
     "output_type": "execute_result"
    }
   ],
   "source": [
    "print(len(img_data))\n",
    "print(len(label_data))\n",
    "300-253"
   ]
  },
  {
   "cell_type": "code",
   "execution_count": 32,
   "id": "4776da77-975b-49a8-80ac-bcd475d83dd5",
   "metadata": {},
   "outputs": [
    {
     "data": {
      "text/plain": [
       "['20240122123058_frame_779',\n",
       " '20240122124739_frame_420',\n",
       " '20240122124553_frame_280',\n",
       " '20240122122558_frame_444',\n",
       " '20240122123058_frame_615']"
      ]
     },
     "execution_count": 32,
     "metadata": {},
     "output_type": "execute_result"
    }
   ],
   "source": [
    "missing_photos[0:5]"
   ]
  },
  {
   "cell_type": "code",
   "execution_count": 33,
   "id": "117a1b6e-f03d-46aa-b8f1-b9ab9d7141b9",
   "metadata": {},
   "outputs": [],
   "source": [
    "missing_photos_full= [filename +'.png'for filename in missing_photos]"
   ]
  },
  {
   "cell_type": "code",
   "execution_count": 34,
   "id": "6a5e6eab-0ac4-4926-a5e3-8f220348a1c1",
   "metadata": {},
   "outputs": [
    {
     "data": {
      "text/plain": [
       "['20240122123058_frame_779.png',\n",
       " '20240122124739_frame_420.png',\n",
       " '20240122124553_frame_280.png',\n",
       " '20240122122558_frame_444.png',\n",
       " '20240122123058_frame_615.png']"
      ]
     },
     "execution_count": 34,
     "metadata": {},
     "output_type": "execute_result"
    }
   ],
   "source": [
    "missing_photos_full[0:5]"
   ]
  },
  {
   "cell_type": "code",
   "execution_count": 35,
   "id": "75cb4a56-b612-4531-9a42-2aab458505ae",
   "metadata": {},
   "outputs": [
    {
     "name": "stdout",
     "output_type": "stream",
     "text": [
      "/home/jmunoz004/medial_ai/vids_final/20240122123058_frame_779.png\n",
      "/home/jmunoz004/medial_ai/vids_final/20240122124739_frame_420.png\n",
      "/home/jmunoz004/medial_ai/vids_final/20240122124553_frame_280.png\n",
      "/home/jmunoz004/medial_ai/vids_final/20240122122558_frame_444.png\n",
      "/home/jmunoz004/medial_ai/vids_final/20240122123058_frame_615.png\n",
      "/home/jmunoz004/medial_ai/vids_final/20240122122120_frame_935.png\n",
      "/home/jmunoz004/medial_ai/vids_final/20240122123358_frame_639.png\n",
      "/home/jmunoz004/medial_ai/vids_final/20240122122558_frame_518.png\n",
      "/home/jmunoz004/medial_ai/vids_final/20240122121902_frame_1122.png\n",
      "/home/jmunoz004/medial_ai/vids_final/20240122122355_frame_444.png\n",
      "/home/jmunoz004/medial_ai/vids_final/20240122122355_frame_1184.png\n",
      "/home/jmunoz004/medial_ai/vids_final/20240122121552_frame_73.png\n",
      "/home/jmunoz004/medial_ai/vids_final/20240122124948_frame_1080.png\n",
      "/home/jmunoz004/medial_ai/vids_final/20240122124948_frame_1140.png\n",
      "/home/jmunoz004/medial_ai/vids_final/20240122122855_frame_684.png\n",
      "/home/jmunoz004/medial_ai/vids_final/20240122122558_frame_592.png\n",
      "/home/jmunoz004/medial_ai/vids_final/20240122121902_frame_858.png\n",
      "/home/jmunoz004/medial_ai/vids_final/20240122124739_frame_910.png\n",
      "/home/jmunoz004/medial_ai/vids_final/20240122121902_frame_330.png\n",
      "/home/jmunoz004/medial_ai/vids_final/20240122124739_frame_140.png\n",
      "/home/jmunoz004/medial_ai/vids_final/20240122123058_frame_656.png\n",
      "/home/jmunoz004/medial_ai/vids_final/20240122123358_frame_1420.png\n",
      "/home/jmunoz004/medial_ai/vids_final/20240122122120_frame_1100.png\n",
      "/home/jmunoz004/medial_ai/vids_final/20240122121902_frame_1320.png\n",
      "/home/jmunoz004/medial_ai/vids_final/20240122121902_frame_792.png\n",
      "/home/jmunoz004/medial_ai/vids_final/20240122122855_frame_627.png\n",
      "/home/jmunoz004/medial_ai/vids_final/20240122124553_frame_1050.png\n",
      "/home/jmunoz004/medial_ai/vids_final/20240122123058_frame_369.png\n",
      "/home/jmunoz004/medial_ai/vids_final/20240122124739_frame_840.png\n",
      "/home/jmunoz004/medial_ai/vids_final/20240122123551_frame_576.png\n",
      "/home/jmunoz004/medial_ai/vids_final/20240122124739_frame_560.png\n",
      "/home/jmunoz004/medial_ai/vids_final/20240122121552_frame_1460.png\n",
      "/home/jmunoz004/medial_ai/vids_final/20240122123358_frame_710.png\n",
      "/home/jmunoz004/medial_ai/vids_final/20240122123358_frame_497.png\n",
      "/home/jmunoz004/medial_ai/vids_final/20240122122120_frame_1045.png\n",
      "/home/jmunoz004/medial_ai/vids_final/20240122123358_frame_426.png\n",
      "/home/jmunoz004/medial_ai/vids_final/20240122122558_frame_370.png\n",
      "/home/jmunoz004/medial_ai/vids_final/20240122121902_frame_1254.png\n",
      "/home/jmunoz004/medial_ai/vids_final/20240122123551_frame_1080.png\n",
      "/home/jmunoz004/medial_ai/vids_final/20240122124739_frame_700.png\n",
      "/home/jmunoz004/medial_ai/vids_final/20240122123358_frame_923.png\n",
      "/home/jmunoz004/medial_ai/vids_final/20240122122855_frame_342.png\n",
      "/home/jmunoz004/medial_ai/vids_final/20240122123739_frame_72.png\n",
      "/home/jmunoz004/medial_ai/vids_final/20240122123358_frame_568.png\n",
      "/home/jmunoz004/medial_ai/vids_final/20240122123358_frame_852.png\n",
      "/home/jmunoz004/medial_ai/vids_final/20240122121902_frame_990.png\n",
      "/home/jmunoz004/medial_ai/vids_final/20240122124948_frame_1200.png\n"
     ]
    }
   ],
   "source": [
    "for file_name in missing_photos_full:\n",
    "    file_path= os.path.join(project_images,file_name)\n",
    "    print(file_path)"
   ]
  },
  {
   "cell_type": "code",
   "execution_count": 36,
   "id": "763664db-5f8d-47d3-bb8f-8af9ab0969e3",
   "metadata": {},
   "outputs": [
    {
     "name": "stdout",
     "output_type": "stream",
     "text": [
      "files have been deleted \n"
     ]
    }
   ],
   "source": [
    "## remove the files \n",
    "for file_name in missing_photos_full:\n",
    "    file_path= os.path.join(project_images,file_name)\n",
    "    if os.path.exists(file_path):\n",
    "        os.remove(file_path)\n",
    "        \n",
    "print(\"files have been deleted \")"
   ]
  },
  {
   "cell_type": "code",
   "execution_count": 162,
   "id": "b6359569-c813-4128-9c71-a7c25bb83d71",
   "metadata": {},
   "outputs": [],
   "source": [
    "### since we need to recheck lets write a function becasue we keep repeating \n",
    "def compare_images(project_img='/home/jmunoz004/medial_ai/vids_final',vid_labels='/home/jmunoz004/medial_ai/vids_final_labels'):\n",
    "    project_images=project_img\n",
    "    image_files=os.listdir(project_images) \n",
    "    print(f\"checking the amount of images in {project_images}\")\n",
    "    print(len(image_files))\n",
    "    image_files[0:20]\n",
    "    img_data=[]\n",
    "    for file_name in image_files:\n",
    "        if file_name.endswith('.png'):\n",
    "            prefix=file_name.rsplit('.png',1)[0]\n",
    "            img_data.append(prefix)\n",
    "    vids_labels=vid_labels\n",
    "    label_files=os.listdir(vids_labels) \n",
    "    label_files[0:20]\n",
    "    print(f\"checking the amount of labels in {vids_labels}\")\n",
    "    print(len(label_files))\n",
    "    \n",
    "    label_data=[]\n",
    "    for file_name in label_files:\n",
    "        if file_name.endswith('.xml.txt'):\n",
    "            prefix=file_name.rsplit('.xml.txt',1)[0]\n",
    "            label_data.append(prefix)\n",
    "    print(img_data[0:5])\n",
    "    print(label_data[0:5])\n",
    "    print(\"checking for missing photos in labeled data directory\")\n",
    "    print(\"*\"*120)\n",
    "    print(\"*\"*120)\n",
    "    missing_photos=[]\n",
    "    for row in range(len(img_data)):\n",
    "            if img_data[row] not in label_data:\n",
    "                mia=img_data[row]\n",
    "                missing_photos.append(mia)\n",
    "                #print(mia)\n",
    "    print(missing_photos)\n",
    "    if len(missing_photos)<=0:\n",
    "        print(\"folders match between images and labels, but still need to check between labels and images\")\n",
    "    else:\n",
    "        print(\"you have photos that are not in the labeld data you need to delete them\")\n",
    "    return missing_photos\n",
    "\n"
   ]
  },
  {
   "cell_type": "code",
   "execution_count": 51,
   "id": "93b6f064-25e4-4897-b56b-5950f121f46f",
   "metadata": {},
   "outputs": [
    {
     "name": "stdout",
     "output_type": "stream",
     "text": [
      "checking the amount of images in /home/jmunoz004/medial_ai/vids_final\n",
      "254\n",
      "checking the amount of labels in /home/jmunoz004/medial_ai/vids_final_labels\n",
      "254\n",
      "['20240122124948_frame_420', '20240122123739_frame_1368', '20240122123358_frame_213', '20240122124111_frame_1311', '20240122121902_frame_1056']\n",
      "['20240122121552_frame_365', '20240122124553_frame_770', '20240122123920_frame_56', '20240122121552_frame_803', '20240122124111_frame_966']\n",
      "checking for missing photos in labeled data directory\n",
      "************************************************************************************************************************\n",
      "************************************************************************************************************************\n",
      "[]\n",
      "folders match between images and labels, but still need to check between labels and images\n"
     ]
    },
    {
     "data": {
      "text/plain": [
       "[]"
      ]
     },
     "execution_count": 51,
     "metadata": {},
     "output_type": "execute_result"
    }
   ],
   "source": [
    "compare_images()"
   ]
  },
  {
   "cell_type": "code",
   "execution_count": 43,
   "id": "ad98e1b6-4790-4af3-9592-7a2a6c28e601",
   "metadata": {},
   "outputs": [
    {
     "name": "stdout",
     "output_type": "stream",
     "text": [
      "254\n",
      "['20240122124948_frame_420', '20240122123739_frame_1368', '20240122123358_frame_213', '20240122124111_frame_1311', '20240122121902_frame_1056']\n",
      "['20240122121552_frame_365', '20240122124553_frame_770', '20240122123920_frame_56', '20240122121552_frame_803', '20240122124111_frame_966']\n",
      "checking for missing photos in labeled data directory\n",
      "************************************************************************************************************************\n",
      "************************************************************************************************************************\n"
     ]
    }
   ],
   "source": [
    "project_img='/home/jmunoz004/medial_ai/vids_final'\n",
    "vid_labels='/home/jmunoz004/medial_ai/vids_final_labels'\n",
    "project_images=project_img\n",
    "image_files=os.listdir(project_images) \n",
    "print(len(image_files))\n",
    "image_files[0:20]\n",
    "img_data=[]\n",
    "for file_name in image_files:\n",
    "    if file_name.endswith('.png'):\n",
    "        prefix=file_name.rsplit('.png',1)[0]\n",
    "        img_data.append(prefix)\n",
    "vids_labels=vid_labels\n",
    "label_files=os.listdir(vids_labels) \n",
    "label_files[0:20]\n",
    "label_data=[]\n",
    "for file_name in label_files:\n",
    "    if file_name.endswith('.xml.txt'):\n",
    "        prefix=file_name.rsplit('.xml.txt',1)[0]\n",
    "        label_data.append(prefix)\n",
    "print(img_data[0:5])\n",
    "print(label_data[0:5])\n",
    "print(\"checking for missing photos in labeled data directory\")\n",
    "print(\"*\"*120)\n",
    "print(\"*\"*120)\n",
    "missing_labels=[]\n",
    "for row in range(len(label_data)):\n",
    "        if label_data[row] not in img_data:\n",
    "            mia=label_data[row]\n",
    "            missing_photos.append(mia)\n",
    "            #print(mia)\n"
   ]
  },
  {
   "cell_type": "code",
   "execution_count": 44,
   "id": "a8ba2c39-6665-4ab6-be64-99b99bc665b2",
   "metadata": {},
   "outputs": [
    {
     "data": {
      "text/plain": [
       "[]"
      ]
     },
     "execution_count": 44,
     "metadata": {},
     "output_type": "execute_result"
    }
   ],
   "source": [
    "missing_labels"
   ]
  },
  {
   "cell_type": "code",
   "execution_count": 45,
   "id": "4267556f-c391-4248-b587-218f2a540d9f",
   "metadata": {},
   "outputs": [
    {
     "name": "stdout",
     "output_type": "stream",
     "text": [
      "253\n"
     ]
    },
    {
     "data": {
      "text/plain": [
       "253"
      ]
     },
     "execution_count": 45,
     "metadata": {},
     "output_type": "execute_result"
    }
   ],
   "source": [
    "print(len(img_data))\n",
    "len(label_data)"
   ]
  },
  {
   "cell_type": "code",
   "execution_count": 46,
   "id": "331b8a7b-38f9-4678-8570-fb0f799a32ee",
   "metadata": {},
   "outputs": [],
   "source": [
    "image_labels='/home/jmunoz004/medial_ai/image_labels'\n",
    "imgs         ='/home/jmunoz004/medial_ai/images'"
   ]
  },
  {
   "cell_type": "code",
   "execution_count": 52,
   "id": "65079bfa-72c8-4b39-aeb2-ea0fca5a16fc",
   "metadata": {},
   "outputs": [
    {
     "name": "stdout",
     "output_type": "stream",
     "text": [
      "checking the amount of images in /home/jmunoz004/medial_ai/images\n",
      "990\n",
      "checking the amount of labels in /home/jmunoz004/medial_ai/image_labels\n",
      "990\n",
      "['gloves27932', 'gloves20848', 'gloves32252', 'gloves3576', 'gloves16492']\n",
      "['gloves28972', 'gloves30916', 'gloves34084', 'gloves29236', 'gloves33036']\n",
      "checking for missing photos in labeled data directory\n",
      "************************************************************************************************************************\n",
      "************************************************************************************************************************\n",
      "[]\n",
      "folders match between images and labels, but still need to check between labels and images\n"
     ]
    },
    {
     "data": {
      "text/plain": [
       "[]"
      ]
     },
     "execution_count": 52,
     "metadata": {},
     "output_type": "execute_result"
    }
   ],
   "source": [
    "compare_images(imgs,image_labels)"
   ]
  },
  {
   "cell_type": "code",
   "execution_count": 99,
   "id": "b212cf73-4613-4cce-9488-3adafb607c2c",
   "metadata": {},
   "outputs": [],
   "source": [
    "os.chdir('/home/jmunoz004/medial_ai/model_setup')"
   ]
  },
  {
   "cell_type": "code",
   "execution_count": 100,
   "id": "f181f986-f0c9-48a5-98cf-b8f8bbfdd771",
   "metadata": {},
   "outputs": [
    {
     "name": "stdout",
     "output_type": "stream",
     "text": [
      "/home/jmunoz004/medial_ai/model_setup\n"
     ]
    }
   ],
   "source": [
    "!pwd"
   ]
  },
  {
   "cell_type": "code",
   "execution_count": 101,
   "id": "10e8e8d4-a95d-4369-93c2-42af61113b5f",
   "metadata": {},
   "outputs": [
    {
     "name": "stdout",
     "output_type": "stream",
     "text": [
      "gmail_labels_model  img_transformed_images     vids_final_images\n",
      "image_labels_model  video_framel_labels_model  vids_final_label_model\n",
      "images_images\t    video_frames_images\n"
     ]
    }
   ],
   "source": [
    "!ls"
   ]
  },
  {
   "cell_type": "code",
   "execution_count": null,
   "id": "8dbcfc89-32b5-436c-8cc4-b729187dd9d2",
   "metadata": {},
   "outputs": [],
   "source": [
    "gmail_labels_model,image_labels_model,video_framel_labels_model ,vids_final_label_model"
   ]
  },
  {
   "cell_type": "code",
   "execution_count": null,
   "id": "3870574c-dcd0-479d-90d2-17cf8cf827f7",
   "metadata": {},
   "outputs": [],
   "source": [
    "gmail_labels_model\n",
    "/home/jmunoz004/medial_ai/model_setup/gmail_labels_model"
   ]
  },
  {
   "cell_type": "code",
   "execution_count": 112,
   "id": "437e591c-28f3-4ee1-8548-2c5ede51e246",
   "metadata": {},
   "outputs": [
    {
     "name": "stdout",
     "output_type": "stream",
     "text": [
      "Renamed: /home/jmunoz004/medial_ai/model_setup/vids_final_label_model/20240122121552_frame_365.xml.txt to /home/jmunoz004/medial_ai/model_setup/vids_final_label_model/20240122121552_frame_365.txt\n",
      "Renamed: /home/jmunoz004/medial_ai/model_setup/vids_final_label_model/20240122124553_frame_770.xml.txt to /home/jmunoz004/medial_ai/model_setup/vids_final_label_model/20240122124553_frame_770.txt\n",
      "Renamed: /home/jmunoz004/medial_ai/model_setup/vids_final_label_model/20240122123920_frame_56.xml.txt to /home/jmunoz004/medial_ai/model_setup/vids_final_label_model/20240122123920_frame_56.txt\n",
      "Renamed: /home/jmunoz004/medial_ai/model_setup/vids_final_label_model/20240122121552_frame_803.xml.txt to /home/jmunoz004/medial_ai/model_setup/vids_final_label_model/20240122121552_frame_803.txt\n",
      "Renamed: /home/jmunoz004/medial_ai/model_setup/vids_final_label_model/20240122124111_frame_966.xml.txt to /home/jmunoz004/medial_ai/model_setup/vids_final_label_model/20240122124111_frame_966.txt\n",
      "Renamed: /home/jmunoz004/medial_ai/model_setup/vids_final_label_model/20240122123551_frame_864.xml.txt to /home/jmunoz004/medial_ai/model_setup/vids_final_label_model/20240122123551_frame_864.txt\n",
      "Renamed: /home/jmunoz004/medial_ai/model_setup/vids_final_label_model/20240122123358_frame_71.xml.txt to /home/jmunoz004/medial_ai/model_setup/vids_final_label_model/20240122123358_frame_71.txt\n",
      "Renamed: /home/jmunoz004/medial_ai/model_setup/vids_final_label_model/20240122123739_frame_360.xml.txt to /home/jmunoz004/medial_ai/model_setup/vids_final_label_model/20240122123739_frame_360.txt\n",
      "Renamed: /home/jmunoz004/medial_ai/model_setup/vids_final_label_model/20240122123058_frame_123.xml.txt to /home/jmunoz004/medial_ai/model_setup/vids_final_label_model/20240122123058_frame_123.txt\n",
      "Renamed: /home/jmunoz004/medial_ai/model_setup/vids_final_label_model/20240122123739_frame_504.xml.txt to /home/jmunoz004/medial_ai/model_setup/vids_final_label_model/20240122123739_frame_504.txt\n",
      "Renamed: /home/jmunoz004/medial_ai/model_setup/vids_final_label_model/20240122123058_frame_246.xml.txt to /home/jmunoz004/medial_ai/model_setup/vids_final_label_model/20240122123058_frame_246.txt\n",
      "Renamed: /home/jmunoz004/medial_ai/model_setup/vids_final_label_model/20240122123058_frame_328.xml.txt to /home/jmunoz004/medial_ai/model_setup/vids_final_label_model/20240122123058_frame_328.txt\n",
      "Renamed: /home/jmunoz004/medial_ai/model_setup/vids_final_label_model/20240122123739_frame_1440.xml.txt to /home/jmunoz004/medial_ai/model_setup/vids_final_label_model/20240122123739_frame_1440.txt\n",
      "Renamed: /home/jmunoz004/medial_ai/model_setup/vids_final_label_model/20240122122120_frame_220.xml.txt to /home/jmunoz004/medial_ai/model_setup/vids_final_label_model/20240122122120_frame_220.txt\n",
      "Renamed: /home/jmunoz004/medial_ai/model_setup/vids_final_label_model/20240122122355_frame_148.xml.txt to /home/jmunoz004/medial_ai/model_setup/vids_final_label_model/20240122122355_frame_148.txt\n",
      "Renamed: /home/jmunoz004/medial_ai/model_setup/vids_final_label_model/20240122122355_frame_518.xml.txt to /home/jmunoz004/medial_ai/model_setup/vids_final_label_model/20240122122355_frame_518.txt\n",
      "Renamed: /home/jmunoz004/medial_ai/model_setup/vids_final_label_model/20240122124739_frame_630.xml.txt to /home/jmunoz004/medial_ai/model_setup/vids_final_label_model/20240122124739_frame_630.txt\n",
      "Renamed: /home/jmunoz004/medial_ai/model_setup/vids_final_label_model/20240122122855_frame_456.xml.txt to /home/jmunoz004/medial_ai/model_setup/vids_final_label_model/20240122122855_frame_456.txt\n",
      "Renamed: /home/jmunoz004/medial_ai/model_setup/vids_final_label_model/20240122121902_frame_264.xml.txt to /home/jmunoz004/medial_ai/model_setup/vids_final_label_model/20240122121902_frame_264.txt\n",
      "Renamed: /home/jmunoz004/medial_ai/model_setup/vids_final_label_model/20240122121552_frame_146.xml.txt to /home/jmunoz004/medial_ai/model_setup/vids_final_label_model/20240122121552_frame_146.txt\n",
      "Renamed: /home/jmunoz004/medial_ai/model_setup/vids_final_label_model/20240122121552_frame_657.xml.txt to /home/jmunoz004/medial_ai/model_setup/vids_final_label_model/20240122121552_frame_657.txt\n",
      "Renamed: /home/jmunoz004/medial_ai/model_setup/vids_final_label_model/20240122122120_frame_990.xml.txt to /home/jmunoz004/medial_ai/model_setup/vids_final_label_model/20240122122120_frame_990.txt\n",
      "Renamed: /home/jmunoz004/medial_ai/model_setup/vids_final_label_model/20240122122355_frame_814.xml.txt to /home/jmunoz004/medial_ai/model_setup/vids_final_label_model/20240122122355_frame_814.txt\n",
      "Renamed: /home/jmunoz004/medial_ai/model_setup/vids_final_label_model/20240122124739_frame_1190.xml.txt to /home/jmunoz004/medial_ai/model_setup/vids_final_label_model/20240122124739_frame_1190.txt\n",
      "Renamed: /home/jmunoz004/medial_ai/model_setup/vids_final_label_model/20240122122120_frame_550.xml.txt to /home/jmunoz004/medial_ai/model_setup/vids_final_label_model/20240122122120_frame_550.txt\n",
      "Renamed: /home/jmunoz004/medial_ai/model_setup/vids_final_label_model/20240122123920_frame_1008.xml.txt to /home/jmunoz004/medial_ai/model_setup/vids_final_label_model/20240122123920_frame_1008.txt\n",
      "Renamed: /home/jmunoz004/medial_ai/model_setup/vids_final_label_model/20240122122855_frame_399.xml.txt to /home/jmunoz004/medial_ai/model_setup/vids_final_label_model/20240122122855_frame_399.txt\n",
      "Renamed: /home/jmunoz004/medial_ai/model_setup/vids_final_label_model/20240122122355_frame_296.xml.txt to /home/jmunoz004/medial_ai/model_setup/vids_final_label_model/20240122122355_frame_296.txt\n",
      "Renamed: /home/jmunoz004/medial_ai/model_setup/vids_final_label_model/20240122121902_frame_132.xml.txt to /home/jmunoz004/medial_ai/model_setup/vids_final_label_model/20240122121902_frame_132.txt\n",
      "Renamed: /home/jmunoz004/medial_ai/model_setup/vids_final_label_model/20240122124948_frame_1020.xml.txt to /home/jmunoz004/medial_ai/model_setup/vids_final_label_model/20240122124948_frame_1020.txt\n",
      "Renamed: /home/jmunoz004/medial_ai/model_setup/vids_final_label_model/20240122123358_frame_994.xml.txt to /home/jmunoz004/medial_ai/model_setup/vids_final_label_model/20240122123358_frame_994.txt\n",
      "Renamed: /home/jmunoz004/medial_ai/model_setup/vids_final_label_model/20240122121902_frame_1188.xml.txt to /home/jmunoz004/medial_ai/model_setup/vids_final_label_model/20240122121902_frame_1188.txt\n",
      "Renamed: /home/jmunoz004/medial_ai/model_setup/vids_final_label_model/20240122122855_frame_570.xml.txt to /home/jmunoz004/medial_ai/model_setup/vids_final_label_model/20240122122855_frame_570.txt\n",
      "Renamed: /home/jmunoz004/medial_ai/model_setup/vids_final_label_model/20240122121552_frame_511.xml.txt to /home/jmunoz004/medial_ai/model_setup/vids_final_label_model/20240122121552_frame_511.txt\n",
      "Renamed: /home/jmunoz004/medial_ai/model_setup/vids_final_label_model/20240122124948_frame_300.xml.txt to /home/jmunoz004/medial_ai/model_setup/vids_final_label_model/20240122124948_frame_300.txt\n",
      "Renamed: /home/jmunoz004/medial_ai/model_setup/vids_final_label_model/20240122124111_frame_1035.xml.txt to /home/jmunoz004/medial_ai/model_setup/vids_final_label_model/20240122124111_frame_1035.txt\n",
      "Renamed: /home/jmunoz004/medial_ai/model_setup/vids_final_label_model/20240122123739_frame_864.xml.txt to /home/jmunoz004/medial_ai/model_setup/vids_final_label_model/20240122123739_frame_864.txt\n",
      "Renamed: /home/jmunoz004/medial_ai/model_setup/vids_final_label_model/20240122121902_frame_528.xml.txt to /home/jmunoz004/medial_ai/model_setup/vids_final_label_model/20240122121902_frame_528.txt\n",
      "Renamed: /home/jmunoz004/medial_ai/model_setup/vids_final_label_model/20240122123058_frame_533.xml.txt to /home/jmunoz004/medial_ai/model_setup/vids_final_label_model/20240122123058_frame_533.txt\n",
      "Renamed: /home/jmunoz004/medial_ai/model_setup/vids_final_label_model/20240122123358_frame_1349.xml.txt to /home/jmunoz004/medial_ai/model_setup/vids_final_label_model/20240122123358_frame_1349.txt\n",
      "Renamed: /home/jmunoz004/medial_ai/model_setup/vids_final_label_model/20240122122558_frame_962.xml.txt to /home/jmunoz004/medial_ai/model_setup/vids_final_label_model/20240122122558_frame_962.txt\n",
      "Renamed: /home/jmunoz004/medial_ai/model_setup/vids_final_label_model/20240122123551_frame_432.xml.txt to /home/jmunoz004/medial_ai/model_setup/vids_final_label_model/20240122123551_frame_432.txt\n",
      "Renamed: /home/jmunoz004/medial_ai/model_setup/vids_final_label_model/20240122121902_frame_1056.xml.txt to /home/jmunoz004/medial_ai/model_setup/vids_final_label_model/20240122121902_frame_1056.txt\n",
      "Renamed: /home/jmunoz004/medial_ai/model_setup/vids_final_label_model/20240122122355_frame_1406.xml.txt to /home/jmunoz004/medial_ai/model_setup/vids_final_label_model/20240122122355_frame_1406.txt\n",
      "Renamed: /home/jmunoz004/medial_ai/model_setup/vids_final_label_model/20240122122558_frame_888.xml.txt to /home/jmunoz004/medial_ai/model_setup/vids_final_label_model/20240122122558_frame_888.txt\n",
      "Renamed: /home/jmunoz004/medial_ai/model_setup/vids_final_label_model/20240122123739_frame_1080.xml.txt to /home/jmunoz004/medial_ai/model_setup/vids_final_label_model/20240122123739_frame_1080.txt\n",
      "Renamed: /home/jmunoz004/medial_ai/model_setup/vids_final_label_model/20240122123058_frame_820.xml.txt to /home/jmunoz004/medial_ai/model_setup/vids_final_label_model/20240122123058_frame_820.txt\n",
      "Renamed: /home/jmunoz004/medial_ai/model_setup/vids_final_label_model/20240122124553_frame_910.xml.txt to /home/jmunoz004/medial_ai/model_setup/vids_final_label_model/20240122124553_frame_910.txt\n",
      "Renamed: /home/jmunoz004/medial_ai/model_setup/vids_final_label_model/20240122123058_frame_738.xml.txt to /home/jmunoz004/medial_ai/model_setup/vids_final_label_model/20240122123058_frame_738.txt\n",
      "Renamed: /home/jmunoz004/medial_ai/model_setup/vids_final_label_model/20240122124948_frame_960.xml.txt to /home/jmunoz004/medial_ai/model_setup/vids_final_label_model/20240122124948_frame_960.txt\n",
      "Renamed: /home/jmunoz004/medial_ai/model_setup/vids_final_label_model/20240122124948_frame_540.xml.txt to /home/jmunoz004/medial_ai/model_setup/vids_final_label_model/20240122124948_frame_540.txt\n",
      "Renamed: /home/jmunoz004/medial_ai/model_setup/vids_final_label_model/20240122124948_frame_480.xml.txt to /home/jmunoz004/medial_ai/model_setup/vids_final_label_model/20240122124948_frame_480.txt\n",
      "Renamed: /home/jmunoz004/medial_ai/model_setup/vids_final_label_model/20240122123551_frame_1008.xml.txt to /home/jmunoz004/medial_ai/model_setup/vids_final_label_model/20240122123551_frame_1008.txt\n",
      "Renamed: /home/jmunoz004/medial_ai/model_setup/vids_final_label_model/20240122122855_frame_912.xml.txt to /home/jmunoz004/medial_ai/model_setup/vids_final_label_model/20240122122855_frame_912.txt\n",
      "Renamed: /home/jmunoz004/medial_ai/model_setup/vids_final_label_model/20240122123739_frame_720.xml.txt to /home/jmunoz004/medial_ai/model_setup/vids_final_label_model/20240122123739_frame_720.txt\n",
      "Renamed: /home/jmunoz004/medial_ai/model_setup/vids_final_label_model/20240122122120_frame_165.xml.txt to /home/jmunoz004/medial_ai/model_setup/vids_final_label_model/20240122122120_frame_165.txt\n",
      "Renamed: /home/jmunoz004/medial_ai/model_setup/vids_final_label_model/20240122123920_frame_336.xml.txt to /home/jmunoz004/medial_ai/model_setup/vids_final_label_model/20240122123920_frame_336.txt\n",
      "Renamed: /home/jmunoz004/medial_ai/model_setup/vids_final_label_model/20240122123551_frame_792.xml.txt to /home/jmunoz004/medial_ai/model_setup/vids_final_label_model/20240122123551_frame_792.txt\n",
      "Renamed: /home/jmunoz004/medial_ai/model_setup/vids_final_label_model/20240122122120_frame_385.xml.txt to /home/jmunoz004/medial_ai/model_setup/vids_final_label_model/20240122122120_frame_385.txt\n",
      "Renamed: /home/jmunoz004/medial_ai/model_setup/vids_final_label_model/20240122122120_frame_440.xml.txt to /home/jmunoz004/medial_ai/model_setup/vids_final_label_model/20240122122120_frame_440.txt\n",
      "Renamed: /home/jmunoz004/medial_ai/model_setup/vids_final_label_model/20240122122558_frame_1184.xml.txt to /home/jmunoz004/medial_ai/model_setup/vids_final_label_model/20240122122558_frame_1184.txt\n",
      "Renamed: /home/jmunoz004/medial_ai/model_setup/vids_final_label_model/20240122124111_frame_552.xml.txt to /home/jmunoz004/medial_ai/model_setup/vids_final_label_model/20240122124111_frame_552.txt\n",
      "Renamed: /home/jmunoz004/medial_ai/model_setup/vids_final_label_model/20240122123920_frame_952.xml.txt to /home/jmunoz004/medial_ai/model_setup/vids_final_label_model/20240122123920_frame_952.txt\n",
      "Renamed: /home/jmunoz004/medial_ai/model_setup/vids_final_label_model/20240122124948_frame_600.xml.txt to /home/jmunoz004/medial_ai/model_setup/vids_final_label_model/20240122124948_frame_600.txt\n",
      "Renamed: /home/jmunoz004/medial_ai/model_setup/vids_final_label_model/20240122124553_frame_70.xml.txt to /home/jmunoz004/medial_ai/model_setup/vids_final_label_model/20240122124553_frame_70.txt\n",
      "Renamed: /home/jmunoz004/medial_ai/model_setup/vids_final_label_model/20240122124111_frame_483.xml.txt to /home/jmunoz004/medial_ai/model_setup/vids_final_label_model/20240122124111_frame_483.txt\n",
      "Renamed: /home/jmunoz004/medial_ai/model_setup/vids_final_label_model/20240122124111_frame_828.xml.txt to /home/jmunoz004/medial_ai/model_setup/vids_final_label_model/20240122124111_frame_828.txt\n",
      "Renamed: /home/jmunoz004/medial_ai/model_setup/vids_final_label_model/20240122123358_frame_1065.xml.txt to /home/jmunoz004/medial_ai/model_setup/vids_final_label_model/20240122123358_frame_1065.txt\n",
      "Renamed: /home/jmunoz004/medial_ai/model_setup/vids_final_label_model/20240122121552_frame_730.xml.txt to /home/jmunoz004/medial_ai/model_setup/vids_final_label_model/20240122121552_frame_730.txt\n",
      "Renamed: /home/jmunoz004/medial_ai/model_setup/vids_final_label_model/20240122122355_frame_1480.xml.txt to /home/jmunoz004/medial_ai/model_setup/vids_final_label_model/20240122122355_frame_1480.txt\n",
      "Renamed: /home/jmunoz004/medial_ai/model_setup/vids_final_label_model/20240122123739_frame_1224.xml.txt to /home/jmunoz004/medial_ai/model_setup/vids_final_label_model/20240122123739_frame_1224.txt\n",
      "Renamed: /home/jmunoz004/medial_ai/model_setup/vids_final_label_model/20240122123920_frame_280.xml.txt to /home/jmunoz004/medial_ai/model_setup/vids_final_label_model/20240122123920_frame_280.txt\n",
      "Renamed: /home/jmunoz004/medial_ai/model_setup/vids_final_label_model/20240122122558_frame_1406.xml.txt to /home/jmunoz004/medial_ai/model_setup/vids_final_label_model/20240122122558_frame_1406.txt\n",
      "Renamed: /home/jmunoz004/medial_ai/model_setup/vids_final_label_model/20240122123551_frame_648.xml.txt to /home/jmunoz004/medial_ai/model_setup/vids_final_label_model/20240122123551_frame_648.txt\n",
      "Renamed: /home/jmunoz004/medial_ai/model_setup/vids_final_label_model/20240122123551_frame_216.xml.txt to /home/jmunoz004/medial_ai/model_setup/vids_final_label_model/20240122123551_frame_216.txt\n",
      "Renamed: /home/jmunoz004/medial_ai/model_setup/vids_final_label_model/20240122122558_frame_74.xml.txt to /home/jmunoz004/medial_ai/model_setup/vids_final_label_model/20240122122558_frame_74.txt\n",
      "Renamed: /home/jmunoz004/medial_ai/model_setup/vids_final_label_model/20240122124739_frame_770.xml.txt to /home/jmunoz004/medial_ai/model_setup/vids_final_label_model/20240122124739_frame_770.txt\n",
      "Renamed: /home/jmunoz004/medial_ai/model_setup/vids_final_label_model/20240122122855_frame_1140.xml.txt to /home/jmunoz004/medial_ai/model_setup/vids_final_label_model/20240122122855_frame_1140.txt\n",
      "Renamed: /home/jmunoz004/medial_ai/model_setup/vids_final_label_model/20240122123920_frame_1064.xml.txt to /home/jmunoz004/medial_ai/model_setup/vids_final_label_model/20240122123920_frame_1064.txt\n",
      "Renamed: /home/jmunoz004/medial_ai/model_setup/vids_final_label_model/20240122123358_frame_1278.xml.txt to /home/jmunoz004/medial_ai/model_setup/vids_final_label_model/20240122123358_frame_1278.txt\n",
      "Renamed: /home/jmunoz004/medial_ai/model_setup/vids_final_label_model/20240122124111_frame_690.xml.txt to /home/jmunoz004/medial_ai/model_setup/vids_final_label_model/20240122124111_frame_690.txt\n",
      "Renamed: /home/jmunoz004/medial_ai/model_setup/vids_final_label_model/20240122121902_frame_66.xml.txt to /home/jmunoz004/medial_ai/model_setup/vids_final_label_model/20240122121902_frame_66.txt\n",
      "Renamed: /home/jmunoz004/medial_ai/model_setup/vids_final_label_model/20240122122355_frame_74.xml.txt to /home/jmunoz004/medial_ai/model_setup/vids_final_label_model/20240122122355_frame_74.txt\n",
      "Renamed: /home/jmunoz004/medial_ai/model_setup/vids_final_label_model/20240122123920_frame_224.xml.txt to /home/jmunoz004/medial_ai/model_setup/vids_final_label_model/20240122123920_frame_224.txt\n",
      "Renamed: /home/jmunoz004/medial_ai/model_setup/vids_final_label_model/20240122124948_frame_60.xml.txt to /home/jmunoz004/medial_ai/model_setup/vids_final_label_model/20240122124948_frame_60.txt\n",
      "Renamed: /home/jmunoz004/medial_ai/model_setup/vids_final_label_model/20240122123739_frame_648.xml.txt to /home/jmunoz004/medial_ai/model_setup/vids_final_label_model/20240122123739_frame_648.txt\n",
      "Renamed: /home/jmunoz004/medial_ai/model_setup/vids_final_label_model/20240122122355_frame_740.xml.txt to /home/jmunoz004/medial_ai/model_setup/vids_final_label_model/20240122122355_frame_740.txt\n",
      "Renamed: /home/jmunoz004/medial_ai/model_setup/vids_final_label_model/20240122123739_frame_216.xml.txt to /home/jmunoz004/medial_ai/model_setup/vids_final_label_model/20240122123739_frame_216.txt\n",
      "Renamed: /home/jmunoz004/medial_ai/model_setup/vids_final_label_model/20240122121552_frame_438.xml.txt to /home/jmunoz004/medial_ai/model_setup/vids_final_label_model/20240122121552_frame_438.txt\n",
      "Renamed: /home/jmunoz004/medial_ai/model_setup/vids_final_label_model/20240122122558_frame_1258.xml.txt to /home/jmunoz004/medial_ai/model_setup/vids_final_label_model/20240122122558_frame_1258.txt\n",
      "Renamed: /home/jmunoz004/medial_ai/model_setup/vids_final_label_model/20240122122855_frame_969.xml.txt to /home/jmunoz004/medial_ai/model_setup/vids_final_label_model/20240122122855_frame_969.txt\n",
      "Renamed: /home/jmunoz004/medial_ai/model_setup/vids_final_label_model/20240122123058_frame_41.xml.txt to /home/jmunoz004/medial_ai/model_setup/vids_final_label_model/20240122123058_frame_41.txt\n",
      "Renamed: /home/jmunoz004/medial_ai/model_setup/vids_final_label_model/20240122123920_frame_504.xml.txt to /home/jmunoz004/medial_ai/model_setup/vids_final_label_model/20240122123920_frame_504.txt\n",
      "Renamed: /home/jmunoz004/medial_ai/model_setup/vids_final_label_model/20240122122120_frame_330.xml.txt to /home/jmunoz004/medial_ai/model_setup/vids_final_label_model/20240122122120_frame_330.txt\n",
      "Renamed: /home/jmunoz004/medial_ai/model_setup/vids_final_label_model/20240122124739_frame_1400.xml.txt to /home/jmunoz004/medial_ai/model_setup/vids_final_label_model/20240122124739_frame_1400.txt\n",
      "Renamed: /home/jmunoz004/medial_ai/model_setup/vids_final_label_model/20240122123551_frame_720.xml.txt to /home/jmunoz004/medial_ai/model_setup/vids_final_label_model/20240122123551_frame_720.txt\n",
      "Renamed: /home/jmunoz004/medial_ai/model_setup/vids_final_label_model/20240122122355_frame_1332.xml.txt to /home/jmunoz004/medial_ai/model_setup/vids_final_label_model/20240122122355_frame_1332.txt\n",
      "Renamed: /home/jmunoz004/medial_ai/model_setup/vids_final_label_model/20240122122558_frame_1332.xml.txt to /home/jmunoz004/medial_ai/model_setup/vids_final_label_model/20240122122558_frame_1332.txt\n",
      "Renamed: /home/jmunoz004/medial_ai/model_setup/vids_final_label_model/20240122124739_frame_350.xml.txt to /home/jmunoz004/medial_ai/model_setup/vids_final_label_model/20240122124739_frame_350.txt\n",
      "Renamed: /home/jmunoz004/medial_ai/model_setup/vids_final_label_model/20240122124553_frame_560.xml.txt to /home/jmunoz004/medial_ai/model_setup/vids_final_label_model/20240122124553_frame_560.txt\n",
      "Renamed: /home/jmunoz004/medial_ai/model_setup/vids_final_label_model/20240122122120_frame_110.xml.txt to /home/jmunoz004/medial_ai/model_setup/vids_final_label_model/20240122122120_frame_110.txt\n",
      "Renamed: /home/jmunoz004/medial_ai/model_setup/vids_final_label_model/20240122123058_frame_451.xml.txt to /home/jmunoz004/medial_ai/model_setup/vids_final_label_model/20240122123058_frame_451.txt\n",
      "Renamed: /home/jmunoz004/medial_ai/model_setup/vids_final_label_model/20240122122355_frame_1258.xml.txt to /home/jmunoz004/medial_ai/model_setup/vids_final_label_model/20240122122355_frame_1258.txt\n",
      "Renamed: /home/jmunoz004/medial_ai/model_setup/vids_final_label_model/20240122121552_frame_1241.xml.txt to /home/jmunoz004/medial_ai/model_setup/vids_final_label_model/20240122121552_frame_1241.txt\n",
      "Renamed: /home/jmunoz004/medial_ai/model_setup/vids_final_label_model/20240122124111_frame_897.xml.txt to /home/jmunoz004/medial_ai/model_setup/vids_final_label_model/20240122124111_frame_897.txt\n",
      "Renamed: /home/jmunoz004/medial_ai/model_setup/vids_final_label_model/20240122121552_frame_584.xml.txt to /home/jmunoz004/medial_ai/model_setup/vids_final_label_model/20240122121552_frame_584.txt\n",
      "Renamed: /home/jmunoz004/medial_ai/model_setup/vids_final_label_model/20240122124948_frame_240.xml.txt to /home/jmunoz004/medial_ai/model_setup/vids_final_label_model/20240122124948_frame_240.txt\n",
      "Renamed: /home/jmunoz004/medial_ai/model_setup/vids_final_label_model/20240122121552_frame_1314.xml.txt to /home/jmunoz004/medial_ai/model_setup/vids_final_label_model/20240122121552_frame_1314.txt\n",
      "Renamed: /home/jmunoz004/medial_ai/model_setup/vids_final_label_model/20240122123058_frame_410.xml.txt to /home/jmunoz004/medial_ai/model_setup/vids_final_label_model/20240122123058_frame_410.txt\n",
      "Renamed: /home/jmunoz004/medial_ai/model_setup/vids_final_label_model/20240122124739_frame_70.xml.txt to /home/jmunoz004/medial_ai/model_setup/vids_final_label_model/20240122124739_frame_70.txt\n",
      "Renamed: /home/jmunoz004/medial_ai/model_setup/vids_final_label_model/20240122123551_frame_1152.xml.txt to /home/jmunoz004/medial_ai/model_setup/vids_final_label_model/20240122123551_frame_1152.txt\n",
      "Renamed: /home/jmunoz004/medial_ai/model_setup/vids_final_label_model/20240122124553_frame_700.xml.txt to /home/jmunoz004/medial_ai/model_setup/vids_final_label_model/20240122124553_frame_700.txt\n",
      "Renamed: /home/jmunoz004/medial_ai/model_setup/vids_final_label_model/20240122122855_frame_228.xml.txt to /home/jmunoz004/medial_ai/model_setup/vids_final_label_model/20240122122855_frame_228.txt\n",
      "Renamed: /home/jmunoz004/medial_ai/model_setup/vids_final_label_model/20240122122120_frame_880.xml.txt to /home/jmunoz004/medial_ai/model_setup/vids_final_label_model/20240122122120_frame_880.txt\n",
      "Renamed: /home/jmunoz004/medial_ai/model_setup/vids_final_label_model/20240122124553_frame_1120.xml.txt to /home/jmunoz004/medial_ai/model_setup/vids_final_label_model/20240122124553_frame_1120.txt\n",
      "Renamed: /home/jmunoz004/medial_ai/model_setup/vids_final_label_model/20240122122120_frame_605.xml.txt to /home/jmunoz004/medial_ai/model_setup/vids_final_label_model/20240122122120_frame_605.txt\n",
      "Renamed: /home/jmunoz004/medial_ai/model_setup/vids_final_label_model/20240122124111_frame_759.xml.txt to /home/jmunoz004/medial_ai/model_setup/vids_final_label_model/20240122124111_frame_759.txt\n",
      "Renamed: /home/jmunoz004/medial_ai/model_setup/vids_final_label_model/20240122122558_frame_666.xml.txt to /home/jmunoz004/medial_ai/model_setup/vids_final_label_model/20240122122558_frame_666.txt\n",
      "Renamed: /home/jmunoz004/medial_ai/model_setup/vids_final_label_model/20240122124739_frame_1260.xml.txt to /home/jmunoz004/medial_ai/model_setup/vids_final_label_model/20240122124739_frame_1260.txt\n",
      "Renamed: /home/jmunoz004/medial_ai/model_setup/vids_final_label_model/20240122122355_frame_370.xml.txt to /home/jmunoz004/medial_ai/model_setup/vids_final_label_model/20240122122355_frame_370.txt\n",
      "Renamed: /home/jmunoz004/medial_ai/model_setup/vids_final_label_model/20240122124111_frame_276.xml.txt to /home/jmunoz004/medial_ai/model_setup/vids_final_label_model/20240122124111_frame_276.txt\n",
      "Renamed: /home/jmunoz004/medial_ai/model_setup/vids_final_label_model/20240122122355_frame_1110.xml.txt to /home/jmunoz004/medial_ai/model_setup/vids_final_label_model/20240122122355_frame_1110.txt\n",
      "Renamed: /home/jmunoz004/medial_ai/model_setup/vids_final_label_model/20240122124948_frame_900.xml.txt to /home/jmunoz004/medial_ai/model_setup/vids_final_label_model/20240122124948_frame_900.txt\n",
      "Renamed: /home/jmunoz004/medial_ai/model_setup/vids_final_label_model/20240122123739_frame_144.xml.txt to /home/jmunoz004/medial_ai/model_setup/vids_final_label_model/20240122123739_frame_144.txt\n",
      "Renamed: /home/jmunoz004/medial_ai/model_setup/vids_final_label_model/20240122123551_frame_1224.xml.txt to /home/jmunoz004/medial_ai/model_setup/vids_final_label_model/20240122123551_frame_1224.txt\n",
      "Renamed: /home/jmunoz004/medial_ai/model_setup/vids_final_label_model/20240122123739_frame_432.xml.txt to /home/jmunoz004/medial_ai/model_setup/vids_final_label_model/20240122123739_frame_432.txt\n",
      "Renamed: /home/jmunoz004/medial_ai/model_setup/vids_final_label_model/20240122122355_frame_222.xml.txt to /home/jmunoz004/medial_ai/model_setup/vids_final_label_model/20240122122355_frame_222.txt\n",
      "Renamed: /home/jmunoz004/medial_ai/model_setup/vids_final_label_model/20240122122355_frame_666.xml.txt to /home/jmunoz004/medial_ai/model_setup/vids_final_label_model/20240122122355_frame_666.txt\n",
      "Renamed: /home/jmunoz004/medial_ai/model_setup/vids_final_label_model/20240122124111_frame_207.xml.txt to /home/jmunoz004/medial_ai/model_setup/vids_final_label_model/20240122124111_frame_207.txt\n",
      "Renamed: /home/jmunoz004/medial_ai/model_setup/vids_final_label_model/20240122123920_frame_728.xml.txt to /home/jmunoz004/medial_ai/model_setup/vids_final_label_model/20240122123920_frame_728.txt\n",
      "Renamed: /home/jmunoz004/medial_ai/model_setup/vids_final_label_model/20240122124111_frame_1173.xml.txt to /home/jmunoz004/medial_ai/model_setup/vids_final_label_model/20240122124111_frame_1173.txt\n",
      "Renamed: /home/jmunoz004/medial_ai/model_setup/vids_final_label_model/20240122121552_frame_219.xml.txt to /home/jmunoz004/medial_ai/model_setup/vids_final_label_model/20240122121552_frame_219.txt\n",
      "Renamed: /home/jmunoz004/medial_ai/model_setup/vids_final_label_model/20240122124553_frame_140.xml.txt to /home/jmunoz004/medial_ai/model_setup/vids_final_label_model/20240122124553_frame_140.txt\n",
      "Renamed: /home/jmunoz004/medial_ai/model_setup/vids_final_label_model/20240122124948_frame_180.xml.txt to /home/jmunoz004/medial_ai/model_setup/vids_final_label_model/20240122124948_frame_180.txt\n",
      "Renamed: /home/jmunoz004/medial_ai/model_setup/vids_final_label_model/20240122122120_frame_495.xml.txt to /home/jmunoz004/medial_ai/model_setup/vids_final_label_model/20240122122120_frame_495.txt\n",
      "Renamed: /home/jmunoz004/medial_ai/model_setup/vids_final_label_model/20240122124948_frame_360.xml.txt to /home/jmunoz004/medial_ai/model_setup/vids_final_label_model/20240122124948_frame_360.txt\n",
      "Renamed: /home/jmunoz004/medial_ai/model_setup/vids_final_label_model/20240122123058_frame_574.xml.txt to /home/jmunoz004/medial_ai/model_setup/vids_final_label_model/20240122123058_frame_574.txt\n",
      "Renamed: /home/jmunoz004/medial_ai/model_setup/vids_final_label_model/20240122122855_frame_855.xml.txt to /home/jmunoz004/medial_ai/model_setup/vids_final_label_model/20240122122855_frame_855.txt\n",
      "Renamed: /home/jmunoz004/medial_ai/model_setup/vids_final_label_model/20240122123551_frame_1296.xml.txt to /home/jmunoz004/medial_ai/model_setup/vids_final_label_model/20240122123551_frame_1296.txt\n",
      "Renamed: /home/jmunoz004/medial_ai/model_setup/vids_final_label_model/20240122122855_frame_285.xml.txt to /home/jmunoz004/medial_ai/model_setup/vids_final_label_model/20240122122855_frame_285.txt\n",
      "Renamed: /home/jmunoz004/medial_ai/model_setup/vids_final_label_model/20240122124111_frame_138.xml.txt to /home/jmunoz004/medial_ai/model_setup/vids_final_label_model/20240122124111_frame_138.txt\n",
      "Renamed: /home/jmunoz004/medial_ai/model_setup/vids_final_label_model/20240122123920_frame_784.xml.txt to /home/jmunoz004/medial_ai/model_setup/vids_final_label_model/20240122123920_frame_784.txt\n",
      "Renamed: /home/jmunoz004/medial_ai/model_setup/vids_final_label_model/20240122121552_frame_949.xml.txt to /home/jmunoz004/medial_ai/model_setup/vids_final_label_model/20240122121552_frame_949.txt\n",
      "Renamed: /home/jmunoz004/medial_ai/model_setup/vids_final_label_model/20240122121552_frame_1387.xml.txt to /home/jmunoz004/medial_ai/model_setup/vids_final_label_model/20240122121552_frame_1387.txt\n",
      "Renamed: /home/jmunoz004/medial_ai/model_setup/vids_final_label_model/20240122124948_frame_660.xml.txt to /home/jmunoz004/medial_ai/model_setup/vids_final_label_model/20240122124948_frame_660.txt\n",
      "Renamed: /home/jmunoz004/medial_ai/model_setup/vids_final_label_model/20240122124948_frame_720.xml.txt to /home/jmunoz004/medial_ai/model_setup/vids_final_label_model/20240122124948_frame_720.txt\n",
      "Renamed: /home/jmunoz004/medial_ai/model_setup/vids_final_label_model/20240122124739_frame_490.xml.txt to /home/jmunoz004/medial_ai/model_setup/vids_final_label_model/20240122124739_frame_490.txt\n",
      "Renamed: /home/jmunoz004/medial_ai/model_setup/vids_final_label_model/20240122123058_frame_205.xml.txt to /home/jmunoz004/medial_ai/model_setup/vids_final_label_model/20240122123058_frame_205.txt\n",
      "Renamed: /home/jmunoz004/medial_ai/model_setup/vids_final_label_model/20240122123551_frame_504.xml.txt to /home/jmunoz004/medial_ai/model_setup/vids_final_label_model/20240122123551_frame_504.txt\n",
      "Renamed: /home/jmunoz004/medial_ai/model_setup/vids_final_label_model/20240122123058_frame_287.xml.txt to /home/jmunoz004/medial_ai/model_setup/vids_final_label_model/20240122123058_frame_287.txt\n",
      "Renamed: /home/jmunoz004/medial_ai/model_setup/vids_final_label_model/20240122124553_frame_420.xml.txt to /home/jmunoz004/medial_ai/model_setup/vids_final_label_model/20240122124553_frame_420.txt\n",
      "Renamed: /home/jmunoz004/medial_ai/model_setup/vids_final_label_model/20240122123358_frame_1207.xml.txt to /home/jmunoz004/medial_ai/model_setup/vids_final_label_model/20240122123358_frame_1207.txt\n",
      "Renamed: /home/jmunoz004/medial_ai/model_setup/vids_final_label_model/20240122123058_frame_697.xml.txt to /home/jmunoz004/medial_ai/model_setup/vids_final_label_model/20240122123058_frame_697.txt\n",
      "Renamed: /home/jmunoz004/medial_ai/model_setup/vids_final_label_model/20240122123739_frame_936.xml.txt to /home/jmunoz004/medial_ai/model_setup/vids_final_label_model/20240122123739_frame_936.txt\n",
      "Renamed: /home/jmunoz004/medial_ai/model_setup/vids_final_label_model/20240122123058_frame_164.xml.txt to /home/jmunoz004/medial_ai/model_setup/vids_final_label_model/20240122123058_frame_164.txt\n",
      "Renamed: /home/jmunoz004/medial_ai/model_setup/vids_final_label_model/20240122122855_frame_1083.xml.txt to /home/jmunoz004/medial_ai/model_setup/vids_final_label_model/20240122122855_frame_1083.txt\n",
      "Renamed: /home/jmunoz004/medial_ai/model_setup/vids_final_label_model/20240122124553_frame_1190.xml.txt to /home/jmunoz004/medial_ai/model_setup/vids_final_label_model/20240122124553_frame_1190.txt\n",
      "Renamed: /home/jmunoz004/medial_ai/model_setup/vids_final_label_model/20240122123739_frame_1296.xml.txt to /home/jmunoz004/medial_ai/model_setup/vids_final_label_model/20240122123739_frame_1296.txt\n",
      "Renamed: /home/jmunoz004/medial_ai/model_setup/vids_final_label_model/20240122123358_frame_355.xml.txt to /home/jmunoz004/medial_ai/model_setup/vids_final_label_model/20240122123358_frame_355.txt\n",
      "Renamed: /home/jmunoz004/medial_ai/model_setup/vids_final_label_model/20240122124111_frame_69.xml.txt to /home/jmunoz004/medial_ai/model_setup/vids_final_label_model/20240122124111_frame_69.txt\n",
      "Renamed: /home/jmunoz004/medial_ai/model_setup/vids_final_label_model/20240122124111_frame_1380.xml.txt to /home/jmunoz004/medial_ai/model_setup/vids_final_label_model/20240122124111_frame_1380.txt\n",
      "Renamed: /home/jmunoz004/medial_ai/model_setup/vids_final_label_model/20240122123358_frame_781.xml.txt to /home/jmunoz004/medial_ai/model_setup/vids_final_label_model/20240122123358_frame_781.txt\n",
      "Renamed: /home/jmunoz004/medial_ai/model_setup/vids_final_label_model/20240122122855_frame_1026.xml.txt to /home/jmunoz004/medial_ai/model_setup/vids_final_label_model/20240122122855_frame_1026.txt\n",
      "Renamed: /home/jmunoz004/medial_ai/model_setup/vids_final_label_model/20240122123551_frame_144.xml.txt to /home/jmunoz004/medial_ai/model_setup/vids_final_label_model/20240122123551_frame_144.txt\n",
      "Renamed: /home/jmunoz004/medial_ai/model_setup/vids_final_label_model/20240122123358_frame_213.xml.txt to /home/jmunoz004/medial_ai/model_setup/vids_final_label_model/20240122123358_frame_213.txt\n",
      "Renamed: /home/jmunoz004/medial_ai/model_setup/vids_final_label_model/20240122122855_frame_513.xml.txt to /home/jmunoz004/medial_ai/model_setup/vids_final_label_model/20240122122855_frame_513.txt\n",
      "Renamed: /home/jmunoz004/medial_ai/model_setup/vids_final_label_model/20240122123551_frame_360.xml.txt to /home/jmunoz004/medial_ai/model_setup/vids_final_label_model/20240122123551_frame_360.txt\n",
      "Renamed: /home/jmunoz004/medial_ai/model_setup/vids_final_label_model/20240122123739_frame_576.xml.txt to /home/jmunoz004/medial_ai/model_setup/vids_final_label_model/20240122123739_frame_576.txt\n",
      "Renamed: /home/jmunoz004/medial_ai/model_setup/vids_final_label_model/20240122124948_frame_420.xml.txt to /home/jmunoz004/medial_ai/model_setup/vids_final_label_model/20240122124948_frame_420.txt\n",
      "Renamed: /home/jmunoz004/medial_ai/model_setup/vids_final_label_model/20240122124553_frame_210.xml.txt to /home/jmunoz004/medial_ai/model_setup/vids_final_label_model/20240122124553_frame_210.txt\n",
      "Renamed: /home/jmunoz004/medial_ai/model_setup/vids_final_label_model/20240122124553_frame_630.xml.txt to /home/jmunoz004/medial_ai/model_setup/vids_final_label_model/20240122124553_frame_630.txt\n",
      "Renamed: /home/jmunoz004/medial_ai/model_setup/vids_final_label_model/20240122124553_frame_490.xml.txt to /home/jmunoz004/medial_ai/model_setup/vids_final_label_model/20240122124553_frame_490.txt\n",
      "Renamed: /home/jmunoz004/medial_ai/model_setup/vids_final_label_model/20240122123739_frame_1152.xml.txt to /home/jmunoz004/medial_ai/model_setup/vids_final_label_model/20240122123739_frame_1152.txt\n",
      "Renamed: /home/jmunoz004/medial_ai/model_setup/vids_final_label_model/20240122122355_frame_962.xml.txt to /home/jmunoz004/medial_ai/model_setup/vids_final_label_model/20240122122355_frame_962.txt\n",
      "Renamed: /home/jmunoz004/medial_ai/model_setup/vids_final_label_model/20240122124111_frame_1311.xml.txt to /home/jmunoz004/medial_ai/model_setup/vids_final_label_model/20240122124111_frame_1311.txt\n",
      "Renamed: /home/jmunoz004/medial_ai/model_setup/vids_final_label_model/20240122121552_frame_876.xml.txt to /home/jmunoz004/medial_ai/model_setup/vids_final_label_model/20240122121552_frame_876.txt\n",
      "Renamed: /home/jmunoz004/medial_ai/model_setup/vids_final_label_model/20240122123920_frame_1120.xml.txt to /home/jmunoz004/medial_ai/model_setup/vids_final_label_model/20240122123920_frame_1120.txt\n",
      "Renamed: /home/jmunoz004/medial_ai/model_setup/vids_final_label_model/20240122123920_frame_840.xml.txt to /home/jmunoz004/medial_ai/model_setup/vids_final_label_model/20240122123920_frame_840.txt\n",
      "Renamed: /home/jmunoz004/medial_ai/model_setup/vids_final_label_model/20240122124553_frame_1330.xml.txt to /home/jmunoz004/medial_ai/model_setup/vids_final_label_model/20240122124553_frame_1330.txt\n",
      "Renamed: /home/jmunoz004/medial_ai/model_setup/vids_final_label_model/20240122121902_frame_198.xml.txt to /home/jmunoz004/medial_ai/model_setup/vids_final_label_model/20240122121902_frame_198.txt\n",
      "Renamed: /home/jmunoz004/medial_ai/model_setup/vids_final_label_model/20240122123739_frame_288.xml.txt to /home/jmunoz004/medial_ai/model_setup/vids_final_label_model/20240122123739_frame_288.txt\n",
      "Renamed: /home/jmunoz004/medial_ai/model_setup/vids_final_label_model/20240122124111_frame_1104.xml.txt to /home/jmunoz004/medial_ai/model_setup/vids_final_label_model/20240122124111_frame_1104.txt\n",
      "Renamed: /home/jmunoz004/medial_ai/model_setup/vids_final_label_model/20240122124553_frame_1400.xml.txt to /home/jmunoz004/medial_ai/model_setup/vids_final_label_model/20240122124553_frame_1400.txt\n",
      "Renamed: /home/jmunoz004/medial_ai/model_setup/vids_final_label_model/20240122121552_frame_292.xml.txt to /home/jmunoz004/medial_ai/model_setup/vids_final_label_model/20240122121552_frame_292.txt\n",
      "Renamed: /home/jmunoz004/medial_ai/model_setup/vids_final_label_model/20240122122120_frame_275.xml.txt to /home/jmunoz004/medial_ai/model_setup/vids_final_label_model/20240122122120_frame_275.txt\n",
      "Renamed: /home/jmunoz004/medial_ai/model_setup/vids_final_label_model/20240122122558_frame_148.xml.txt to /home/jmunoz004/medial_ai/model_setup/vids_final_label_model/20240122122558_frame_148.txt\n",
      "Renamed: /home/jmunoz004/medial_ai/model_setup/vids_final_label_model/20240122123551_frame_288.xml.txt to /home/jmunoz004/medial_ai/model_setup/vids_final_label_model/20240122123551_frame_288.txt\n",
      "Renamed: /home/jmunoz004/medial_ai/model_setup/vids_final_label_model/20240122123058_frame_82.xml.txt to /home/jmunoz004/medial_ai/model_setup/vids_final_label_model/20240122123058_frame_82.txt\n",
      "Renamed: /home/jmunoz004/medial_ai/model_setup/vids_final_label_model/20240122124948_frame_120.xml.txt to /home/jmunoz004/medial_ai/model_setup/vids_final_label_model/20240122124948_frame_120.txt\n",
      "Renamed: /home/jmunoz004/medial_ai/model_setup/vids_final_label_model/20240122121552_frame_1022.xml.txt to /home/jmunoz004/medial_ai/model_setup/vids_final_label_model/20240122121552_frame_1022.txt\n",
      "Renamed: /home/jmunoz004/medial_ai/model_setup/vids_final_label_model/20240122123920_frame_392.xml.txt to /home/jmunoz004/medial_ai/model_setup/vids_final_label_model/20240122123920_frame_392.txt\n",
      "Renamed: /home/jmunoz004/medial_ai/model_setup/vids_final_label_model/20240122124553_frame_840.xml.txt to /home/jmunoz004/medial_ai/model_setup/vids_final_label_model/20240122124553_frame_840.txt\n",
      "Renamed: /home/jmunoz004/medial_ai/model_setup/vids_final_label_model/20240122123739_frame_1368.xml.txt to /home/jmunoz004/medial_ai/model_setup/vids_final_label_model/20240122123739_frame_1368.txt\n",
      "Renamed: /home/jmunoz004/medial_ai/model_setup/vids_final_label_model/20240122122558_frame_814.xml.txt to /home/jmunoz004/medial_ai/model_setup/vids_final_label_model/20240122122558_frame_814.txt\n",
      "Renamed: /home/jmunoz004/medial_ai/model_setup/vids_final_label_model/20240122123358_frame_1136.xml.txt to /home/jmunoz004/medial_ai/model_setup/vids_final_label_model/20240122123358_frame_1136.txt\n",
      "Renamed: /home/jmunoz004/medial_ai/model_setup/vids_final_label_model/20240122121902_frame_660.xml.txt to /home/jmunoz004/medial_ai/model_setup/vids_final_label_model/20240122121902_frame_660.txt\n",
      "Renamed: /home/jmunoz004/medial_ai/model_setup/vids_final_label_model/20240122122855_frame_57.xml.txt to /home/jmunoz004/medial_ai/model_setup/vids_final_label_model/20240122122855_frame_57.txt\n",
      "Renamed: /home/jmunoz004/medial_ai/model_setup/vids_final_label_model/20240122122120_frame_825.xml.txt to /home/jmunoz004/medial_ai/model_setup/vids_final_label_model/20240122122120_frame_825.txt\n",
      "Renamed: /home/jmunoz004/medial_ai/model_setup/vids_final_label_model/20240122122558_frame_740.xml.txt to /home/jmunoz004/medial_ai/model_setup/vids_final_label_model/20240122122558_frame_740.txt\n",
      "Renamed: /home/jmunoz004/medial_ai/model_setup/vids_final_label_model/20240122121902_frame_396.xml.txt to /home/jmunoz004/medial_ai/model_setup/vids_final_label_model/20240122121902_frame_396.txt\n",
      "Renamed: /home/jmunoz004/medial_ai/model_setup/vids_final_label_model/20240122124739_frame_280.xml.txt to /home/jmunoz004/medial_ai/model_setup/vids_final_label_model/20240122124739_frame_280.txt\n",
      "Renamed: /home/jmunoz004/medial_ai/model_setup/vids_final_label_model/20240122122355_frame_1036.xml.txt to /home/jmunoz004/medial_ai/model_setup/vids_final_label_model/20240122122355_frame_1036.txt\n",
      "Renamed: /home/jmunoz004/medial_ai/model_setup/vids_final_label_model/20240122122558_frame_1036.xml.txt to /home/jmunoz004/medial_ai/model_setup/vids_final_label_model/20240122122558_frame_1036.txt\n",
      "Renamed: /home/jmunoz004/medial_ai/model_setup/vids_final_label_model/20240122122855_frame_798.xml.txt to /home/jmunoz004/medial_ai/model_setup/vids_final_label_model/20240122122855_frame_798.txt\n",
      "Renamed: /home/jmunoz004/medial_ai/model_setup/vids_final_label_model/20240122124111_frame_1242.xml.txt to /home/jmunoz004/medial_ai/model_setup/vids_final_label_model/20240122124111_frame_1242.txt\n",
      "Renamed: /home/jmunoz004/medial_ai/model_setup/vids_final_label_model/20240122123920_frame_168.xml.txt to /home/jmunoz004/medial_ai/model_setup/vids_final_label_model/20240122123920_frame_168.txt\n",
      "Renamed: /home/jmunoz004/medial_ai/model_setup/vids_final_label_model/20240122122120_frame_55.xml.txt to /home/jmunoz004/medial_ai/model_setup/vids_final_label_model/20240122122120_frame_55.txt\n",
      "Renamed: /home/jmunoz004/medial_ai/model_setup/vids_final_label_model/20240122123920_frame_448.xml.txt to /home/jmunoz004/medial_ai/model_setup/vids_final_label_model/20240122123920_frame_448.txt\n",
      "Renamed: /home/jmunoz004/medial_ai/model_setup/vids_final_label_model/20240122122558_frame_1480.xml.txt to /home/jmunoz004/medial_ai/model_setup/vids_final_label_model/20240122122558_frame_1480.txt\n",
      "Renamed: /home/jmunoz004/medial_ai/model_setup/vids_final_label_model/20240122124111_frame_345.xml.txt to /home/jmunoz004/medial_ai/model_setup/vids_final_label_model/20240122124111_frame_345.txt\n",
      "Renamed: /home/jmunoz004/medial_ai/model_setup/vids_final_label_model/20240122124948_frame_840.xml.txt to /home/jmunoz004/medial_ai/model_setup/vids_final_label_model/20240122124948_frame_840.txt\n",
      "Renamed: /home/jmunoz004/medial_ai/model_setup/vids_final_label_model/20240122123551_frame_72.xml.txt to /home/jmunoz004/medial_ai/model_setup/vids_final_label_model/20240122123551_frame_72.txt\n",
      "Renamed: /home/jmunoz004/medial_ai/model_setup/vids_final_label_model/20240122121902_frame_462.xml.txt to /home/jmunoz004/medial_ai/model_setup/vids_final_label_model/20240122121902_frame_462.txt\n",
      "Renamed: /home/jmunoz004/medial_ai/model_setup/vids_final_label_model/20240122124111_frame_621.xml.txt to /home/jmunoz004/medial_ai/model_setup/vids_final_label_model/20240122124111_frame_621.txt\n",
      "Renamed: /home/jmunoz004/medial_ai/model_setup/vids_final_label_model/20240122123739_frame_792.xml.txt to /home/jmunoz004/medial_ai/model_setup/vids_final_label_model/20240122123739_frame_792.txt\n",
      "Renamed: /home/jmunoz004/medial_ai/model_setup/vids_final_label_model/20240122121552_frame_1095.xml.txt to /home/jmunoz004/medial_ai/model_setup/vids_final_label_model/20240122121552_frame_1095.txt\n",
      "Renamed: /home/jmunoz004/medial_ai/model_setup/vids_final_label_model/20240122122120_frame_770.xml.txt to /home/jmunoz004/medial_ai/model_setup/vids_final_label_model/20240122122120_frame_770.txt\n",
      "Renamed: /home/jmunoz004/medial_ai/model_setup/vids_final_label_model/20240122122855_frame_741.xml.txt to /home/jmunoz004/medial_ai/model_setup/vids_final_label_model/20240122122855_frame_741.txt\n",
      "Renamed: /home/jmunoz004/medial_ai/model_setup/vids_final_label_model/20240122122855_frame_171.xml.txt to /home/jmunoz004/medial_ai/model_setup/vids_final_label_model/20240122122855_frame_171.txt\n",
      "Renamed: /home/jmunoz004/medial_ai/model_setup/vids_final_label_model/20240122122355_frame_888.xml.txt to /home/jmunoz004/medial_ai/model_setup/vids_final_label_model/20240122122355_frame_888.txt\n",
      "Renamed: /home/jmunoz004/medial_ai/model_setup/vids_final_label_model/20240122122558_frame_296.xml.txt to /home/jmunoz004/medial_ai/model_setup/vids_final_label_model/20240122122558_frame_296.txt\n",
      "Renamed: /home/jmunoz004/medial_ai/model_setup/vids_final_label_model/20240122124739_frame_1120.xml.txt to /home/jmunoz004/medial_ai/model_setup/vids_final_label_model/20240122124739_frame_1120.txt\n",
      "Renamed: /home/jmunoz004/medial_ai/model_setup/vids_final_label_model/20240122123920_frame_560.xml.txt to /home/jmunoz004/medial_ai/model_setup/vids_final_label_model/20240122123920_frame_560.txt\n",
      "Renamed: /home/jmunoz004/medial_ai/model_setup/vids_final_label_model/20240122122558_frame_1110.xml.txt to /home/jmunoz004/medial_ai/model_setup/vids_final_label_model/20240122122558_frame_1110.txt\n",
      "Renamed: /home/jmunoz004/medial_ai/model_setup/vids_final_label_model/20240122121902_frame_924.xml.txt to /home/jmunoz004/medial_ai/model_setup/vids_final_label_model/20240122121902_frame_924.txt\n",
      "Renamed: /home/jmunoz004/medial_ai/model_setup/vids_final_label_model/20240122121902_frame_726.xml.txt to /home/jmunoz004/medial_ai/model_setup/vids_final_label_model/20240122121902_frame_726.txt\n",
      "Renamed: /home/jmunoz004/medial_ai/model_setup/vids_final_label_model/20240122122355_frame_592.xml.txt to /home/jmunoz004/medial_ai/model_setup/vids_final_label_model/20240122122355_frame_592.txt\n",
      "Renamed: /home/jmunoz004/medial_ai/model_setup/vids_final_label_model/20240122124739_frame_980.xml.txt to /home/jmunoz004/medial_ai/model_setup/vids_final_label_model/20240122124739_frame_980.txt\n",
      "Renamed: /home/jmunoz004/medial_ai/model_setup/vids_final_label_model/20240122123739_frame_1008.xml.txt to /home/jmunoz004/medial_ai/model_setup/vids_final_label_model/20240122123739_frame_1008.txt\n",
      "Renamed: /home/jmunoz004/medial_ai/model_setup/vids_final_label_model/20240122121902_frame_594.xml.txt to /home/jmunoz004/medial_ai/model_setup/vids_final_label_model/20240122121902_frame_594.txt\n",
      "Renamed: /home/jmunoz004/medial_ai/model_setup/vids_final_label_model/20240122123551_frame_936.xml.txt to /home/jmunoz004/medial_ai/model_setup/vids_final_label_model/20240122123551_frame_936.txt\n",
      "Renamed: /home/jmunoz004/medial_ai/model_setup/vids_final_label_model/20240122123551_frame_1440.xml.txt to /home/jmunoz004/medial_ai/model_setup/vids_final_label_model/20240122123551_frame_1440.txt\n",
      "Renamed: /home/jmunoz004/medial_ai/model_setup/vids_final_label_model/20240122122120_frame_715.xml.txt to /home/jmunoz004/medial_ai/model_setup/vids_final_label_model/20240122122120_frame_715.txt\n",
      "Renamed: /home/jmunoz004/medial_ai/model_setup/vids_final_label_model/20240122124553_frame_350.xml.txt to /home/jmunoz004/medial_ai/model_setup/vids_final_label_model/20240122124553_frame_350.txt\n",
      "Renamed: /home/jmunoz004/medial_ai/model_setup/vids_final_label_model/20240122123920_frame_112.xml.txt to /home/jmunoz004/medial_ai/model_setup/vids_final_label_model/20240122123920_frame_112.txt\n",
      "Renamed: /home/jmunoz004/medial_ai/model_setup/vids_final_label_model/20240122124739_frame_210.xml.txt to /home/jmunoz004/medial_ai/model_setup/vids_final_label_model/20240122124739_frame_210.txt\n",
      "Renamed: /home/jmunoz004/medial_ai/model_setup/vids_final_label_model/20240122123551_frame_1368.xml.txt to /home/jmunoz004/medial_ai/model_setup/vids_final_label_model/20240122123551_frame_1368.txt\n",
      "Renamed: /home/jmunoz004/medial_ai/model_setup/vids_final_label_model/20240122124111_frame_414.xml.txt to /home/jmunoz004/medial_ai/model_setup/vids_final_label_model/20240122124111_frame_414.txt\n",
      "Renamed: /home/jmunoz004/medial_ai/model_setup/vids_final_label_model/20240122123358_frame_142.xml.txt to /home/jmunoz004/medial_ai/model_setup/vids_final_label_model/20240122123358_frame_142.txt\n",
      "Renamed: /home/jmunoz004/medial_ai/model_setup/vids_final_label_model/20240122122855_frame_114.xml.txt to /home/jmunoz004/medial_ai/model_setup/vids_final_label_model/20240122122855_frame_114.txt\n",
      "Renamed: /home/jmunoz004/medial_ai/model_setup/vids_final_label_model/20240122122558_frame_222.xml.txt to /home/jmunoz004/medial_ai/model_setup/vids_final_label_model/20240122122558_frame_222.txt\n",
      "Renamed: /home/jmunoz004/medial_ai/model_setup/vids_final_label_model/20240122124553_frame_1260.xml.txt to /home/jmunoz004/medial_ai/model_setup/vids_final_label_model/20240122124553_frame_1260.txt\n",
      "Renamed: /home/jmunoz004/medial_ai/model_setup/vids_final_label_model/20240122123920_frame_672.xml.txt to /home/jmunoz004/medial_ai/model_setup/vids_final_label_model/20240122123920_frame_672.txt\n",
      "Renamed: /home/jmunoz004/medial_ai/model_setup/vids_final_label_model/20240122124948_frame_780.xml.txt to /home/jmunoz004/medial_ai/model_setup/vids_final_label_model/20240122124948_frame_780.txt\n",
      "Renamed: /home/jmunoz004/medial_ai/model_setup/vids_final_label_model/20240122122120_frame_660.xml.txt to /home/jmunoz004/medial_ai/model_setup/vids_final_label_model/20240122122120_frame_660.txt\n",
      "Renamed: /home/jmunoz004/medial_ai/model_setup/vids_final_label_model/20240122124739_frame_1050.xml.txt to /home/jmunoz004/medial_ai/model_setup/vids_final_label_model/20240122124739_frame_1050.txt\n",
      "Renamed: /home/jmunoz004/medial_ai/model_setup/vids_final_label_model/20240122124739_frame_1330.xml.txt to /home/jmunoz004/medial_ai/model_setup/vids_final_label_model/20240122124739_frame_1330.txt\n",
      "Renamed: /home/jmunoz004/medial_ai/model_setup/vids_final_label_model/20240122123058_frame_492.xml.txt to /home/jmunoz004/medial_ai/model_setup/vids_final_label_model/20240122123058_frame_492.txt\n",
      "Renamed: /home/jmunoz004/medial_ai/model_setup/vids_final_label_model/20240122123358_frame_284.xml.txt to /home/jmunoz004/medial_ai/model_setup/vids_final_label_model/20240122123358_frame_284.txt\n",
      "Renamed: /home/jmunoz004/medial_ai/model_setup/vids_final_label_model/20240122123920_frame_896.xml.txt to /home/jmunoz004/medial_ai/model_setup/vids_final_label_model/20240122123920_frame_896.txt\n",
      "Renamed: /home/jmunoz004/medial_ai/model_setup/vids_final_label_model/20240122121552_frame_1168.xml.txt to /home/jmunoz004/medial_ai/model_setup/vids_final_label_model/20240122121552_frame_1168.txt\n",
      "Renamed: /home/jmunoz004/medial_ai/model_setup/vids_final_label_model/20240122124553_frame_980.xml.txt to /home/jmunoz004/medial_ai/model_setup/vids_final_label_model/20240122124553_frame_980.txt\n",
      "Renamed: /home/jmunoz004/medial_ai/model_setup/vids_final_label_model/20240122123920_frame_616.xml.txt to /home/jmunoz004/medial_ai/model_setup/vids_final_label_model/20240122123920_frame_616.txt\n"
     ]
    }
   ],
   "source": [
    "import os\n",
    "\n",
    "def rename_xml_txt_to_txt(folder_path):\n",
    "    for file_name in os.listdir(folder_path):\n",
    "        if file_name.endswith('.xml.txt'):\n",
    "            old_path = os.path.join(folder_path, file_name)\n",
    "            new_path = os.path.join(folder_path, file_name.replace('.xml.txt', '.txt'))\n",
    "\n",
    "            try:\n",
    "                os.rename(old_path, new_path)\n",
    "                print(f\"Renamed: {old_path} to {new_path}\")\n",
    "            except Exception as e:\n",
    "                print(f\"Error renaming {old_path}: {e}\")\n",
    "\n",
    "# Replace 'your_images_folder_path' with the path to the 'my_images' folder\n",
    "images_folder_path = '/home/jmunoz004/medial_ai/model_setup/vids_final_label_model'\n",
    "\n",
    "rename_xml_txt_to_txt(images_folder_path)"
   ]
  },
  {
   "cell_type": "code",
   "execution_count": 113,
   "id": "d025d299-39e8-4b2a-90a9-094fc1fe7f03",
   "metadata": {},
   "outputs": [
    {
     "name": "stdout",
     "output_type": "stream",
     "text": [
      "254\n"
     ]
    }
   ],
   "source": [
    "vids_labels=images_folder_path\n",
    "label_files=os.listdir(vids_labels) \n",
    "label_files[0:5]\n",
    "print(len(label_files))"
   ]
  },
  {
   "cell_type": "code",
   "execution_count": 114,
   "id": "6eb7a649-8215-4499-9226-5834dc85d89f",
   "metadata": {},
   "outputs": [
    {
     "data": {
      "text/plain": [
       "[]"
      ]
     },
     "execution_count": 114,
     "metadata": {},
     "output_type": "execute_result"
    }
   ],
   "source": [
    "non_xml= [file_name for file_name in label_files if not file_name.endswith('.txt')]\n",
    "non_xml"
   ]
  },
  {
   "cell_type": "code",
   "execution_count": null,
   "id": "ebae42d3-50d9-4f1d-8a43-a7339fc4255d",
   "metadata": {},
   "outputs": [],
   "source": []
  }
 ],
 "metadata": {
  "kernelspec": {
   "display_name": "ailabel",
   "language": "python",
   "name": "ailabel"
  },
  "language_info": {
   "codemirror_mode": {
    "name": "ipython",
    "version": 3
   },
   "file_extension": ".py",
   "mimetype": "text/x-python",
   "name": "python",
   "nbconvert_exporter": "python",
   "pygments_lexer": "ipython3",
   "version": "3.10.12"
  }
 },
 "nbformat": 4,
 "nbformat_minor": 5
}
