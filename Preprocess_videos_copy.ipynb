{
 "cells": [
  {
   "cell_type": "code",
   "execution_count": 40,
   "id": "d7443b23-9ca2-4684-b0e8-1a6b9d4d754e",
   "metadata": {},
   "outputs": [],
   "source": [
    "import pandas as pd \n",
    "from moviepy.editor import VideoFileClip\n",
    "from IPython.display import display, HTML\n",
    "import cv2\n",
    "import os"
   ]
  },
  {
   "cell_type": "code",
   "execution_count": 2,
   "id": "6e4f4807-dab9-4792-9089-5a57d107a555",
   "metadata": {},
   "outputs": [
    {
     "name": "stdout",
     "output_type": "stream",
     "text": [
      "/home/jmunoz004/doc_model\n"
     ]
    }
   ],
   "source": [
    "!pwd"
   ]
  },
  {
   "cell_type": "code",
   "execution_count": 3,
   "id": "767fc2ae-2dea-4430-9967-8eac1a68e9b5",
   "metadata": {},
   "outputs": [
    {
     "name": "stdout",
     "output_type": "stream",
     "text": [
      "20240122121552.mp4  20240122122558.mp4\t20240122123551.mp4  20240122124553.mp4\n",
      "20240122121902.mp4  20240122122855.mp4\t20240122123739.mp4  20240122124739.mp4\n",
      "20240122122120.mp4  20240122123058.mp4\t20240122123920.mp4  20240122124948.mp4\n",
      "20240122122355.mp4  20240122123358.mp4\t20240122124111.mp4  Untitled.ipynb\n"
     ]
    }
   ],
   "source": [
    "!ls"
   ]
  },
  {
   "cell_type": "code",
   "execution_count": 1,
   "id": "e0b80315-7b9c-4b3e-80d6-a1668cb87210",
   "metadata": {},
   "outputs": [],
   "source": [
    "## View a video\n",
    "input_video =  \"/home/jmunoz004/doc_model/20240122121552.mp4\"\n",
    "#clip = VideoFileClip(input_video)\n",
    "#clip.ipython_display(width=500)"
   ]
  },
  {
   "cell_type": "code",
   "execution_count": 8,
   "id": "60775ce5-fa6f-4001-ba62-bca42cffa05f",
   "metadata": {},
   "outputs": [],
   "source": [
    "## Returns the seconds of a video \n",
    "def get_video_duration(video_path):\n",
    "    cap = cv2.VideoCapture(video_path)\n",
    "    fps = cap.get(cv2.CAP_PROP_FPS)\n",
    "    total_frames = int(cap.get(cv2.CAP_PROP_FRAME_COUNT))\n",
    "    duration_seconds = total_frames / fps\n",
    "    cap.release()\n",
    "    return duration_seconds"
   ]
  },
  {
   "cell_type": "code",
   "execution_count": 11,
   "id": "3042bb14-95c0-4712-aa29-2965ffb7f389",
   "metadata": {},
   "outputs": [
    {
     "data": {
      "text/plain": [
       "58.93552"
      ]
     },
     "execution_count": 11,
     "metadata": {},
     "output_type": "execute_result"
    }
   ],
   "source": [
    "get_video_duration(\"/home/jmunoz004/doc_model/20240122121552.mp4\")"
   ]
  },
  {
   "cell_type": "code",
   "execution_count": 15,
   "id": "7fae75c6-a8e4-4f6c-9a08-9b52e7560a90",
   "metadata": {},
   "outputs": [
    {
     "name": "stdout",
     "output_type": "stream",
     "text": [
      "The video duration is 58 seconds.\n",
      "frames per second is 24\n",
      "the amount of frame in /home/jmunoz004/doc_model/20240122121552.mp4 is 1470\n"
     ]
    },
    {
     "data": {
      "text/plain": [
       "[24.942513445202486, 1470, 58.93552]"
      ]
     },
     "execution_count": 15,
     "metadata": {},
     "output_type": "execute_result"
    }
   ],
   "source": [
    "### Get info about Video  Video Duration, FPS, Total_frames\n",
    "def video_info(video_path=\"/home/jmunoz004/doc_model/20240122121552.mp4\"):\n",
    "   cap = cv2.VideoCapture(video_path)\n",
    "   fps = cap.get(cv2.CAP_PROP_FPS)\n",
    "   total_frames = int(cap.get(cv2.CAP_PROP_FRAME_COUNT))\n",
    "   duration_seconds = total_frames / fps\n",
    "   print(f'The video duration is {int(duration_seconds)} seconds.')\n",
    "   print(f\"frames per second is {int(fps)}\")\n",
    "   print(f\"the amount of frame in {video_path} is {total_frames}\")\n",
    "   return [fps,total_frames,duration_seconds]\n",
    "\n",
    "video_info()"
   ]
  },
  {
   "cell_type": "code",
   "execution_count": 26,
   "id": "069ecffd-1f41-408e-8b11-cef13f09a7cc",
   "metadata": {},
   "outputs": [
    {
     "name": "stdout",
     "output_type": "stream",
     "text": [
      "1470\n",
      "73\n"
     ]
    }
   ],
   "source": [
    "#### In each Minute Long Video we will have apprx over 1000 total Frames\n",
    "#### We don't want every single frame becasue it will look almost exactly like the previous frame\n",
    "#### In this case we only want to return 73 frames out of the 1,470 total frames \n",
    "video_single=\"/home/jmunoz004/doc_model/20240122121552.mp4\"\n",
    "vids= cv2.VideoCapture(video_single)\n",
    "total_frame = int(vids.get(cv2.CAP_PROP_FRAME_COUNT))\n",
    "print(total_frame)\n",
    "print(int(total_frame / 20))  \n"
   ]
  },
  {
   "cell_type": "code",
   "execution_count": 42,
   "id": "c0c82e3d-2c09-4fb9-a9f1-76eff61f1b5a",
   "metadata": {},
   "outputs": [
    {
     "name": "stdout",
     "output_type": "stream",
     "text": [
      "73\n",
      "146\n",
      "219\n",
      "292\n",
      "365\n",
      "438\n",
      "511\n",
      "584\n",
      "657\n",
      "730\n",
      "803\n",
      "876\n",
      "949\n",
      "1022\n",
      "1095\n",
      "1168\n",
      "1241\n",
      "1314\n",
      "1387\n",
      "1460\n"
     ]
    }
   ],
   "source": [
    "video_single=\"/home/jmunoz004/doc_model/20240122121552.mp4\"\n",
    "input_folder = '/home/jmunoz004/doc_model/tv'\n",
    "output_folder = '/home/jmunoz004/doc_model/extract_tv'\n",
    "video_name=\"20240122121902.mp4\"\n",
    "vs = int(total_frame / 20)\n",
    "fc = 0\n",
    "video_cap = cv2.VideoCapture(video_single)\n",
    "while True:\n",
    "    ret, frame = video_cap.read()\n",
    "    if not ret:\n",
    "        break\n",
    "    fc += 1\n",
    "    if fc % vs == 0:\n",
    "        print(fc)\n",
    "        output_filename = f\"{video_name.split('.')[0]}_frame_{fc}.png\"\n",
    "        output_path = os.path.join(output_folder, output_filename)\n",
    "        cv2.imwrite(output_path, frame)"
   ]
  },
  {
   "cell_type": "code",
   "execution_count": 43,
   "id": "bcac45c5-db36-4025-bbd0-705ca26cd929",
   "metadata": {},
   "outputs": [],
   "source": [
    "### Will extract Images from input folder of video\n",
    "### In my Case I want exactly 20 images from each Video \n",
    "input_folder = '/home/jmunoz004/doc_model/tv'\n",
    "output_folder = '/home/jmunoz004/doc_model/extract_tv'\n",
    "def find_amt_frame(vids):\n",
    "    total_frame = int(vids.get(cv2.CAP_PROP_FRAME_COUNT))\n",
    "    return int(total_frame / 20)  # You can change the number of frames to capture here\n",
    "if not os.path.exists(output_folder):\n",
    "    os.makedirs(output_folder)\n",
    "# Get a list of all video files in the input folder\n",
    "video_files = [f for f in os.listdir(input_folder) if f.endswith('.mp4')]\n",
    "for video_file in video_files:\n",
    "    video_path = os.path.join(input_folder, video_file)\n",
    "    video_cap = cv2.VideoCapture(video_path)\n",
    "    vs = find_amt_frame(video_cap)\n",
    "    fc = 0\n",
    "    while True:\n",
    "        ret, frame = video_cap.read()\n",
    "        if not ret:\n",
    "            break\n",
    "        fc += 1\n",
    "        if fc % vs == 0:\n",
    "            output_filename = f\"{video_file.split('.')[0]}_frame_{fc}.png\"\n",
    "            output_path = os.path.join(output_folder, output_filename)\n",
    "            cv2.imwrite(output_path, frame)\n"
   ]
  },
  {
   "cell_type": "code",
   "execution_count": 44,
   "id": "024cae3d-a2c4-4949-93a5-44fec49b5d88",
   "metadata": {},
   "outputs": [],
   "source": [
    "# Input and output folder paths\n",
    "input_folder = '/home/jmunoz004/doc_model/extract_tv'\n",
    "output_folder = '/home/jmunoz004/doc_model/vids_trans'\n",
    "# Create the output folder if it doesn't exist\n",
    "if not os.path.exists(output_folder):\n",
    "    os.makedirs(output_folder)\n",
    "# Target height and width for resizing\n",
    "target_height = 640 # adjust as needed\n",
    "target_width =  640  # adjust as needed\n",
    "# Loop through each file in the input folder\n",
    "for filename in os.listdir(input_folder):\n",
    "    if filename.endswith(\".png\"):  # process only png files\n",
    "        input_path = os.path.join(input_folder, filename)\n",
    "        # Read the image using OpenCV\n",
    "        img = cv2.imread(input_path)\n",
    "        # Resize the image\n",
    "        img_resized = cv2.resize(img, (target_width, target_height), interpolation=cv2.INTER_LINEAR)\n",
    "        # Change the file extension to PNG\n",
    "        output_filename = os.path.splitext(filename)[0] + \".png\"\n",
    "        # Save the resized image as PNG to the output folder\n",
    "        output_path = os.path.join(output_folder, output_filename)\n",
    "        cv2.imwrite(output_path, img_resized)"
   ]
  },
  {
   "cell_type": "code",
   "execution_count": null,
   "id": "961d782e-3ee8-4ba2-bf8e-17c9f55f4cc1",
   "metadata": {},
   "outputs": [],
   "source": []
  }
 ],
 "metadata": {
  "kernelspec": {
   "display_name": "ailabel",
   "language": "python",
   "name": "ailabel"
  },
  "language_info": {
   "codemirror_mode": {
    "name": "ipython",
    "version": 3
   },
   "file_extension": ".py",
   "mimetype": "text/x-python",
   "name": "python",
   "nbconvert_exporter": "python",
   "pygments_lexer": "ipython3",
   "version": "3.10.12"
  }
 },
 "nbformat": 4,
 "nbformat_minor": 5
}
